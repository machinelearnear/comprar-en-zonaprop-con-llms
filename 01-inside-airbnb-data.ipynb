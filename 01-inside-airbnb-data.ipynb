{
 "cells": [
  {
   "cell_type": "markdown",
   "id": "6e2a6c79-2950-4490-8eb8-dc4dc2a73e85",
   "metadata": {},
   "source": [
    "[![Open In Colab](https://colab.research.google.com/assets/colab-badge.svg)](https://colab.research.google.com/github/machinelearnear/open-hf-spaces-in-studiolab/blob/main/run_google_colab.ipynb)"
   ]
  },
  {
   "cell_type": "markdown",
   "id": "fff88934-d383-423a-9aaa-916bc789cbe5",
   "metadata": {
    "tags": []
   },
   "source": [
    "# Download, clean, and prep all `InsideAirBnB` data\n",
    "- https://www.machinelearnear.com/\n",
    "- https://www.youtube.com/@machinelearnear\n",
    "- http://insideairbnb.com/get-the-data/\n",
    "- https://medium.com/@aarandaniel/airbnbs-in-buenos-aires-the-data-caa173d81aa7\n",
    "- https://github.com/beluplanas/Airbnb_bsas/blob/main/draft_notebook.ipynb"
   ]
  },
  {
   "cell_type": "markdown",
   "id": "2d2ae6a6-e322-453b-911b-71f8f1fa82bf",
   "metadata": {},
   "source": [
    "## Download data"
   ]
  },
  {
   "cell_type": "code",
   "execution_count": 1,
   "id": "0a66cea8-5943-4383-83e7-fe874fae5b0c",
   "metadata": {
    "tags": []
   },
   "outputs": [],
   "source": [
    "import requests\n",
    "from bs4 import BeautifulSoup\n",
    "\n",
    "def scrape_airbnb_buenos_aires_urls():\n",
    "    # fetch HTML content\n",
    "    url = 'http://insideairbnb.com/get-the-data'\n",
    "    response = requests.get(url)\n",
    "    soup = BeautifulSoup(response.content, 'html.parser')\n",
    "\n",
    "    # find the \"Buenos Aires\" section\n",
    "    buenos_aires_section = soup.find('h3', string='Buenos Aires, Ciudad Autónoma de Buenos Aires, Argentina').find_next('table')\n",
    "\n",
    "    # extract URLs\n",
    "    urls = {}\n",
    "    for row in buenos_aires_section.find_all('tr'):\n",
    "        columns = row.find_all('td')\n",
    "        if len(columns) > 1:\n",
    "            file_name = columns[1].get_text(strip=True)\n",
    "            file_url = columns[1].find('a')['href']\n",
    "            urls[file_name] = file_url\n",
    "\n",
    "    return urls"
   ]
  },
  {
   "cell_type": "code",
   "execution_count": 2,
   "id": "3c90b1e7-08f3-4ab1-a37f-f3195930921d",
   "metadata": {
    "tags": []
   },
   "outputs": [
    {
     "name": "stdout",
     "output_type": "stream",
     "text": [
      "{'listings.csv.gz': 'http://data.insideairbnb.com/argentina/ciudad-autónoma-de-buenos-aires/buenos-aires/2023-12-26/data/listings.csv.gz', 'calendar.csv.gz': 'http://data.insideairbnb.com/argentina/ciudad-autónoma-de-buenos-aires/buenos-aires/2023-12-26/data/calendar.csv.gz', 'reviews.csv.gz': 'http://data.insideairbnb.com/argentina/ciudad-autónoma-de-buenos-aires/buenos-aires/2023-12-26/data/reviews.csv.gz', 'listings.csv': 'http://data.insideairbnb.com/argentina/ciudad-autónoma-de-buenos-aires/buenos-aires/2023-12-26/visualisations/listings.csv', 'reviews.csv': 'http://data.insideairbnb.com/argentina/ciudad-autónoma-de-buenos-aires/buenos-aires/2023-12-26/visualisations/reviews.csv', 'neighbourhoods.csv': 'http://data.insideairbnb.com/argentina/ciudad-autónoma-de-buenos-aires/buenos-aires/2023-12-26/visualisations/neighbourhoods.csv', 'neighbourhoods.geojson': 'http://data.insideairbnb.com/argentina/ciudad-autónoma-de-buenos-aires/buenos-aires/2023-12-26/visualisations/neighbourhoods.geojson'}\n"
     ]
    }
   ],
   "source": [
    "# run the function\n",
    "urls = scrape_airbnb_buenos_aires_urls()\n",
    "print(urls)"
   ]
  },
  {
   "cell_type": "code",
   "execution_count": 3,
   "id": "a49187e1-6376-4fe8-b090-7d773914529c",
   "metadata": {
    "tags": []
   },
   "outputs": [],
   "source": [
    "import os\n",
    "import requests\n",
    "import gzip\n",
    "import shutil\n",
    "from tqdm import tqdm\n",
    "\n",
    "def download_and_uncompress_files(urls):\n",
    "    # create the 'data' directory if it doesn't exist\n",
    "    os.makedirs('raw_data', exist_ok=True)\n",
    "\n",
    "    for file_name, url in tqdm(urls.items()):\n",
    "        # extract file name from URL\n",
    "        local_filename = url.split('/')[-1]\n",
    "        local_path = os.path.join('raw_data', local_filename)\n",
    "\n",
    "        # check if the file already exists\n",
    "        if os.path.exists(local_path):\n",
    "            print(f\"File {local_filename} already exists. Skipping download.\")\n",
    "            continue\n",
    "\n",
    "        # download and save the file\n",
    "        with requests.get(url, stream=True) as r:\n",
    "            r.raise_for_status()\n",
    "            with open(local_path, 'wb') as f:\n",
    "                for chunk in r.iter_content(chunk_size=8192): \n",
    "                    f.write(chunk)\n",
    "        \n",
    "        print(f\"Downloaded {file_name} to {local_path}\")\n",
    "\n",
    "        # check if the file is a .gz file and uncompress it\n",
    "        if local_filename.endswith('.gz'):\n",
    "            uncompressed_filename = local_filename.replace('.csv.gz', '_full.csv')\n",
    "            uncompressed_path = os.path.join('raw_data', uncompressed_filename)\n",
    "            with gzip.open(local_path, 'rb') as f_in:\n",
    "                with open(uncompressed_path, 'wb') as f_out:\n",
    "                    shutil.copyfileobj(f_in, f_out)\n",
    "            print(f\"Uncompressed {local_filename} to {uncompressed_filename}\")\n",
    "            \n",
    "            # delete the original .gz file\n",
    "            os.remove(local_path)\n",
    "            print(f\"Deleted compressed file {local_filename}\")"
   ]
  },
  {
   "cell_type": "code",
   "execution_count": 4,
   "id": "dd30d308-a6f6-43d9-a0d7-07730d012723",
   "metadata": {
    "tags": []
   },
   "outputs": [
    {
     "name": "stderr",
     "output_type": "stream",
     "text": [
      "  0%|          | 0/7 [00:00<?, ?it/s]"
     ]
    },
    {
     "name": "stdout",
     "output_type": "stream",
     "text": [
      "Downloaded listings.csv.gz to raw_data/listings.csv.gz\n"
     ]
    },
    {
     "name": "stderr",
     "output_type": "stream",
     "text": [
      " 14%|█▍        | 1/7 [00:00<00:05,  1.11it/s]"
     ]
    },
    {
     "name": "stdout",
     "output_type": "stream",
     "text": [
      "Uncompressed listings.csv.gz to listings_full.csv\n",
      "Deleted compressed file listings.csv.gz\n",
      "Downloaded calendar.csv.gz to raw_data/calendar.csv.gz\n"
     ]
    },
    {
     "name": "stderr",
     "output_type": "stream",
     "text": [
      " 29%|██▊       | 2/7 [00:06<00:17,  3.47s/it]"
     ]
    },
    {
     "name": "stdout",
     "output_type": "stream",
     "text": [
      "Uncompressed calendar.csv.gz to calendar_full.csv\n",
      "Deleted compressed file calendar.csv.gz\n",
      "Downloaded reviews.csv.gz to raw_data/reviews.csv.gz\n"
     ]
    },
    {
     "name": "stderr",
     "output_type": "stream",
     "text": [
      "100%|██████████| 7/7 [00:11<00:00,  1.71s/it]"
     ]
    },
    {
     "name": "stdout",
     "output_type": "stream",
     "text": [
      "Uncompressed reviews.csv.gz to reviews_full.csv\n",
      "Deleted compressed file reviews.csv.gz\n",
      "File listings.csv already exists. Skipping download.\n",
      "File reviews.csv already exists. Skipping download.\n",
      "File neighbourhoods.csv already exists. Skipping download.\n",
      "File neighbourhoods.geojson already exists. Skipping download.\n"
     ]
    },
    {
     "name": "stderr",
     "output_type": "stream",
     "text": [
      "\n"
     ]
    }
   ],
   "source": [
    "download_and_uncompress_files(urls)"
   ]
  },
  {
   "cell_type": "markdown",
   "id": "0153d42c-5f9b-4b7b-9800-d82d1ea4fc3f",
   "metadata": {},
   "source": [
    "## Load and clean data"
   ]
  },
  {
   "cell_type": "code",
   "execution_count": 5,
   "id": "8c4fce2f-a9ba-4240-98ad-4fcb7c3eaeab",
   "metadata": {
    "tags": []
   },
   "outputs": [],
   "source": [
    "import pandas as pd\n",
    "import numpy as np\n",
    "import matplotlib.pyplot as plt"
   ]
  },
  {
   "cell_type": "markdown",
   "id": "e5d8a992-0e3f-40e9-9287-4950eac3eac1",
   "metadata": {},
   "source": [
    "### Listings"
   ]
  },
  {
   "cell_type": "code",
   "execution_count": 6,
   "id": "702a85f3-4e73-42e6-a971-71b0bdeedcc9",
   "metadata": {
    "tags": []
   },
   "outputs": [],
   "source": [
    "listings = pd.read_csv('raw_data/listings_full.csv')"
   ]
  },
  {
   "cell_type": "code",
   "execution_count": 7,
   "id": "dc34f1b1-a080-47ab-982d-95adae9e50e2",
   "metadata": {
    "tags": []
   },
   "outputs": [],
   "source": [
    "selected_columns = [\n",
    "    'id', 'listing_url', 'last_scraped', 'neighbourhood_cleansed', 'latitude',\n",
    "    'longitude', 'room_type', 'bathrooms_text', 'beds', 'price',\n",
    "    'number_of_reviews_l30d', 'review_scores_rating', 'review_scores_location',\n",
    "    'review_scores_value'\n",
    "]"
   ]
  },
  {
   "cell_type": "code",
   "execution_count": 8,
   "id": "8fe70e85-b37d-4761-b721-674e3e187ee2",
   "metadata": {
    "tags": []
   },
   "outputs": [
    {
     "data": {
      "text/html": [
       "<div>\n",
       "<style scoped>\n",
       "    .dataframe tbody tr th:only-of-type {\n",
       "        vertical-align: middle;\n",
       "    }\n",
       "\n",
       "    .dataframe tbody tr th {\n",
       "        vertical-align: top;\n",
       "    }\n",
       "\n",
       "    .dataframe thead th {\n",
       "        text-align: right;\n",
       "    }\n",
       "</style>\n",
       "<table border=\"1\" class=\"dataframe\">\n",
       "  <thead>\n",
       "    <tr style=\"text-align: right;\">\n",
       "      <th></th>\n",
       "      <th>id</th>\n",
       "      <th>listing_url</th>\n",
       "      <th>last_scraped</th>\n",
       "      <th>neighbourhood_cleansed</th>\n",
       "      <th>latitude</th>\n",
       "      <th>longitude</th>\n",
       "      <th>room_type</th>\n",
       "      <th>bathrooms_text</th>\n",
       "      <th>beds</th>\n",
       "      <th>price</th>\n",
       "      <th>number_of_reviews_l30d</th>\n",
       "      <th>review_scores_rating</th>\n",
       "      <th>review_scores_location</th>\n",
       "      <th>review_scores_value</th>\n",
       "    </tr>\n",
       "  </thead>\n",
       "  <tbody>\n",
       "    <tr>\n",
       "      <th>0</th>\n",
       "      <td>11508</td>\n",
       "      <td>https://www.airbnb.com/rooms/11508</td>\n",
       "      <td>2023-12-29</td>\n",
       "      <td>Palermo</td>\n",
       "      <td>-34.581840</td>\n",
       "      <td>-58.424150</td>\n",
       "      <td>Entire home/apt</td>\n",
       "      <td>1 bath</td>\n",
       "      <td>1.0</td>\n",
       "      <td>$96,921.00</td>\n",
       "      <td>1</td>\n",
       "      <td>4.79</td>\n",
       "      <td>4.92</td>\n",
       "      <td>4.87</td>\n",
       "    </tr>\n",
       "    <tr>\n",
       "      <th>1</th>\n",
       "      <td>14222</td>\n",
       "      <td>https://www.airbnb.com/rooms/14222</td>\n",
       "      <td>2023-12-28</td>\n",
       "      <td>Palermo</td>\n",
       "      <td>-34.586170</td>\n",
       "      <td>-58.410360</td>\n",
       "      <td>Entire home/apt</td>\n",
       "      <td>1 bath</td>\n",
       "      <td>1.0</td>\n",
       "      <td>$32,123.00</td>\n",
       "      <td>1</td>\n",
       "      <td>4.77</td>\n",
       "      <td>4.87</td>\n",
       "      <td>4.75</td>\n",
       "    </tr>\n",
       "    <tr>\n",
       "      <th>2</th>\n",
       "      <td>15074</td>\n",
       "      <td>https://www.airbnb.com/rooms/15074</td>\n",
       "      <td>2023-12-29</td>\n",
       "      <td>Nuñez</td>\n",
       "      <td>-34.538920</td>\n",
       "      <td>-58.465990</td>\n",
       "      <td>Private room</td>\n",
       "      <td>1 bath</td>\n",
       "      <td>1.0</td>\n",
       "      <td>$24,230.00</td>\n",
       "      <td>0</td>\n",
       "      <td>NaN</td>\n",
       "      <td>NaN</td>\n",
       "      <td>NaN</td>\n",
       "    </tr>\n",
       "    <tr>\n",
       "      <th>3</th>\n",
       "      <td>16695</td>\n",
       "      <td>https://www.airbnb.com/rooms/16695</td>\n",
       "      <td>2023-12-28</td>\n",
       "      <td>Monserrat</td>\n",
       "      <td>-34.614390</td>\n",
       "      <td>-58.376110</td>\n",
       "      <td>Entire home/apt</td>\n",
       "      <td>1 bath</td>\n",
       "      <td>1.0</td>\n",
       "      <td>$40,303.00</td>\n",
       "      <td>0</td>\n",
       "      <td>4.28</td>\n",
       "      <td>4.39</td>\n",
       "      <td>4.41</td>\n",
       "    </tr>\n",
       "    <tr>\n",
       "      <th>4</th>\n",
       "      <td>20062</td>\n",
       "      <td>https://www.airbnb.com/rooms/20062</td>\n",
       "      <td>2023-12-28</td>\n",
       "      <td>Palermo</td>\n",
       "      <td>-34.581848</td>\n",
       "      <td>-58.441605</td>\n",
       "      <td>Entire home/apt</td>\n",
       "      <td>1.5 baths</td>\n",
       "      <td>2.0</td>\n",
       "      <td>$138,876.00</td>\n",
       "      <td>4</td>\n",
       "      <td>4.93</td>\n",
       "      <td>4.93</td>\n",
       "      <td>4.78</td>\n",
       "    </tr>\n",
       "  </tbody>\n",
       "</table>\n",
       "</div>"
      ],
      "text/plain": [
       "      id                         listing_url last_scraped  \\\n",
       "0  11508  https://www.airbnb.com/rooms/11508   2023-12-29   \n",
       "1  14222  https://www.airbnb.com/rooms/14222   2023-12-28   \n",
       "2  15074  https://www.airbnb.com/rooms/15074   2023-12-29   \n",
       "3  16695  https://www.airbnb.com/rooms/16695   2023-12-28   \n",
       "4  20062  https://www.airbnb.com/rooms/20062   2023-12-28   \n",
       "\n",
       "  neighbourhood_cleansed   latitude  longitude        room_type  \\\n",
       "0                Palermo -34.581840 -58.424150  Entire home/apt   \n",
       "1                Palermo -34.586170 -58.410360  Entire home/apt   \n",
       "2                  Nuñez -34.538920 -58.465990     Private room   \n",
       "3              Monserrat -34.614390 -58.376110  Entire home/apt   \n",
       "4                Palermo -34.581848 -58.441605  Entire home/apt   \n",
       "\n",
       "  bathrooms_text  beds        price  number_of_reviews_l30d  \\\n",
       "0         1 bath   1.0   $96,921.00                       1   \n",
       "1         1 bath   1.0   $32,123.00                       1   \n",
       "2         1 bath   1.0   $24,230.00                       0   \n",
       "3         1 bath   1.0   $40,303.00                       0   \n",
       "4      1.5 baths   2.0  $138,876.00                       4   \n",
       "\n",
       "   review_scores_rating  review_scores_location  review_scores_value  \n",
       "0                  4.79                    4.92                 4.87  \n",
       "1                  4.77                    4.87                 4.75  \n",
       "2                   NaN                     NaN                  NaN  \n",
       "3                  4.28                    4.39                 4.41  \n",
       "4                  4.93                    4.93                 4.78  "
      ]
     },
     "execution_count": 8,
     "metadata": {},
     "output_type": "execute_result"
    }
   ],
   "source": [
    "filtered_listings = listings[selected_columns].reset_index(drop=True)\n",
    "filtered_listings.head()"
   ]
  },
  {
   "cell_type": "markdown",
   "id": "fb24735e-d7de-42e1-a6e4-681a239b925c",
   "metadata": {
    "tags": []
   },
   "source": [
    "#### Add `estimated_nights_booked_l30d` with the following assumptions:\n",
    "- 50% review per booking ratio\n",
    "- 3 nights minimum\n",
    "- 70% max occupancy."
   ]
  },
  {
   "cell_type": "code",
   "execution_count": 9,
   "id": "913b26d1-f872-4c97-970b-dfafaf53508f",
   "metadata": {
    "tags": []
   },
   "outputs": [],
   "source": [
    "def categorize_occupancy(reviews_l30d):\n",
    "    estimated_nights = (reviews_l30d / 0.50) * 3\n",
    "    if estimated_nights > 14:\n",
    "        return 'high'\n",
    "    elif estimated_nights >= 7:\n",
    "        return 'medium'\n",
    "    else:\n",
    "        return 'low'\n",
    "\n",
    "filtered_listings['estimated_nights_booked_l30d'] = filtered_listings['number_of_reviews_l30d'].apply(categorize_occupancy)"
   ]
  },
  {
   "cell_type": "markdown",
   "id": "8db47905-b02b-4074-83b4-3e222c0d819d",
   "metadata": {},
   "source": [
    "#### Clean `bathrooms_text` and `beds`"
   ]
  },
  {
   "cell_type": "code",
   "execution_count": 10,
   "id": "d501ecc4-3a6c-4f64-8881-649f9fa6f33d",
   "metadata": {
    "tags": []
   },
   "outputs": [],
   "source": [
    "# extract numeric part from the 'bathrooms_text' column\n",
    "filtered_listings['bathrooms'] = filtered_listings['bathrooms_text'].str.extract(r'(\\d+\\.?\\d*)').astype(float)\n",
    "filtered_listings.drop(columns=['bathrooms_text'], inplace=True)"
   ]
  },
  {
   "cell_type": "markdown",
   "id": "a221d9df-2b7a-4d60-a5fe-b21c11ff0fff",
   "metadata": {},
   "source": [
    "#### Add `estimated_price_per_night_in_USD` with the following assumptions:\n",
    "- Price is expressed in ARS\n",
    "- We use historical USD-ARS rates, but only take the official ones, not \"MEP\" or \"Blue\" values.\n",
    "- Modified code from: https://github.com/bahramkhanlarov/Currency-Exchange-Rate-Scraper"
   ]
  },
  {
   "cell_type": "code",
   "execution_count": 11,
   "id": "460be41f-bb1f-4457-ac2b-7eaf527b5734",
   "metadata": {
    "tags": []
   },
   "outputs": [],
   "source": [
    "import datetime\n",
    "from datetime import timedelta, date\n",
    "\n",
    "# convert the 'last_scraped' column to datetime\n",
    "filtered_listings['last_scraped'] = pd.to_datetime(filtered_listings['last_scraped'])\n",
    "\n",
    "# get the minimum and maximum dates\n",
    "start_date = filtered_listings['last_scraped'].min().date()\n",
    "end_date = filtered_listings['last_scraped'].max().date()\n",
    "\n",
    "# initialize an empty DataFrame to store the results\n",
    "ars_to_usd = pd.DataFrame()\n",
    "\n",
    "def daterange(start_date, end_date):\n",
    "    for n in range(int((end_date - start_date).days)):\n",
    "        yield start_date + timedelta(n)\n",
    "\n",
    "for single_date in daterange(start_date, end_date):\n",
    "    dfs = pd.read_html(f'https://www.xe.com/currencytables/?from=ARS&date={single_date.strftime(\"%Y-%m-%d\")}')[0]\n",
    "    dfs = dfs[dfs['Currency'] == 'USD']\n",
    "    dfs['Date'] = single_date.strftime(\"%Y-%m-%d\")\n",
    "    ars_to_usd = pd.concat([ars_to_usd, dfs], ignore_index=True)"
   ]
  },
  {
   "cell_type": "code",
   "execution_count": 12,
   "id": "091b303a-729b-44de-a298-8be0a72f421e",
   "metadata": {
    "tags": []
   },
   "outputs": [
    {
     "data": {
      "text/html": [
       "<div>\n",
       "<style scoped>\n",
       "    .dataframe tbody tr th:only-of-type {\n",
       "        vertical-align: middle;\n",
       "    }\n",
       "\n",
       "    .dataframe tbody tr th {\n",
       "        vertical-align: top;\n",
       "    }\n",
       "\n",
       "    .dataframe thead th {\n",
       "        text-align: right;\n",
       "    }\n",
       "</style>\n",
       "<table border=\"1\" class=\"dataframe\">\n",
       "  <thead>\n",
       "    <tr style=\"text-align: right;\">\n",
       "      <th></th>\n",
       "      <th>Currency</th>\n",
       "      <th>Name</th>\n",
       "      <th>Units per ARS</th>\n",
       "      <th>ARS per unit</th>\n",
       "      <th>Date</th>\n",
       "    </tr>\n",
       "  </thead>\n",
       "  <tbody>\n",
       "    <tr>\n",
       "      <th>0</th>\n",
       "      <td>USD</td>\n",
       "      <td>US Dollar</td>\n",
       "      <td>0.001241</td>\n",
       "      <td>805.777048</td>\n",
       "      <td>2023-12-26</td>\n",
       "    </tr>\n",
       "    <tr>\n",
       "      <th>1</th>\n",
       "      <td>USD</td>\n",
       "      <td>US Dollar</td>\n",
       "      <td>0.001239</td>\n",
       "      <td>807.408077</td>\n",
       "      <td>2023-12-27</td>\n",
       "    </tr>\n",
       "    <tr>\n",
       "      <th>2</th>\n",
       "      <td>USD</td>\n",
       "      <td>US Dollar</td>\n",
       "      <td>0.001238</td>\n",
       "      <td>807.917240</td>\n",
       "      <td>2023-12-28</td>\n",
       "    </tr>\n",
       "    <tr>\n",
       "      <th>3</th>\n",
       "      <td>USD</td>\n",
       "      <td>US Dollar</td>\n",
       "      <td>0.001237</td>\n",
       "      <td>808.524217</td>\n",
       "      <td>2023-12-29</td>\n",
       "    </tr>\n",
       "  </tbody>\n",
       "</table>\n",
       "</div>"
      ],
      "text/plain": [
       "  Currency       Name  Units per ARS  ARS per unit        Date\n",
       "0      USD  US Dollar       0.001241    805.777048  2023-12-26\n",
       "1      USD  US Dollar       0.001239    807.408077  2023-12-27\n",
       "2      USD  US Dollar       0.001238    807.917240  2023-12-28\n",
       "3      USD  US Dollar       0.001237    808.524217  2023-12-29"
      ]
     },
     "execution_count": 12,
     "metadata": {},
     "output_type": "execute_result"
    }
   ],
   "source": [
    "ars_to_usd.head()"
   ]
  },
  {
   "cell_type": "code",
   "execution_count": 13,
   "id": "e7b3d12e-2b94-43d5-b5bd-5b75573c3eae",
   "metadata": {
    "tags": []
   },
   "outputs": [
    {
     "name": "stderr",
     "output_type": "stream",
     "text": [
      "100%|██████████| 33490/33490 [00:18<00:00, 1837.02it/s]\n"
     ]
    }
   ],
   "source": [
    "import math\n",
    "\n",
    "# ensure 'last_scraped' in filtered_listings is a datetime.date\n",
    "filtered_listings['last_scraped'] = pd.to_datetime(filtered_listings['last_scraped']).dt.date\n",
    "\n",
    "# ensure 'Date' in ars_to_usd is a datetime.date\n",
    "ars_to_usd['Date'] = pd.to_datetime(ars_to_usd['Date']).dt.date\n",
    "\n",
    "# clean the \"price\" column in filtered_listings\n",
    "filtered_listings['price'] = filtered_listings['price'].replace('[\\$,]', '', regex=True).astype(float)\n",
    "\n",
    "# initialize a list to store the estimated prices in USD\n",
    "estimated_prices_in_usd = []\n",
    "\n",
    "# iterate over each row in filtered_listings\n",
    "for row in tqdm(filtered_listings.itertuples(), total=len(filtered_listings)):\n",
    "    # find the matching 'ARS per unit' in ars_to_usd\n",
    "    exchange_rate = ars_to_usd[ars_to_usd['Date'] == getattr(row, 'last_scraped')]['ARS per unit']\n",
    "    \n",
    "    if not exchange_rate.empty and not pd.isna(row.price) and not pd.isna(exchange_rate.iloc[0]):\n",
    "        # calculate the estimated price in USD\n",
    "        estimated_price_usd = math.ceil(row.price / exchange_rate.iloc[0])\n",
    "    else:\n",
    "        # if no matching date is found, set a default value or NaN\n",
    "        estimated_price_usd = float('nan')\n",
    "    \n",
    "    # append the calculated price to the list\n",
    "    estimated_prices_in_usd.append(estimated_price_usd)\n",
    "\n",
    "# assign the list as a new column in filtered_listings\n",
    "filtered_listings['estimated_price_per_night_in_USD'] = estimated_prices_in_usd"
   ]
  },
  {
   "cell_type": "code",
   "execution_count": 14,
   "id": "f7a67ba4-be45-4088-939b-52c8c7a936d7",
   "metadata": {
    "tags": []
   },
   "outputs": [
    {
     "data": {
      "text/html": [
       "<div>\n",
       "<style scoped>\n",
       "    .dataframe tbody tr th:only-of-type {\n",
       "        vertical-align: middle;\n",
       "    }\n",
       "\n",
       "    .dataframe tbody tr th {\n",
       "        vertical-align: top;\n",
       "    }\n",
       "\n",
       "    .dataframe thead th {\n",
       "        text-align: right;\n",
       "    }\n",
       "</style>\n",
       "<table border=\"1\" class=\"dataframe\">\n",
       "  <thead>\n",
       "    <tr style=\"text-align: right;\">\n",
       "      <th></th>\n",
       "      <th>id</th>\n",
       "      <th>listing_url</th>\n",
       "      <th>last_scraped</th>\n",
       "      <th>neighbourhood_cleansed</th>\n",
       "      <th>latitude</th>\n",
       "      <th>longitude</th>\n",
       "      <th>room_type</th>\n",
       "      <th>beds</th>\n",
       "      <th>price</th>\n",
       "      <th>number_of_reviews_l30d</th>\n",
       "      <th>review_scores_rating</th>\n",
       "      <th>review_scores_location</th>\n",
       "      <th>review_scores_value</th>\n",
       "      <th>estimated_nights_booked_l30d</th>\n",
       "      <th>bathrooms</th>\n",
       "      <th>estimated_price_per_night_in_USD</th>\n",
       "    </tr>\n",
       "  </thead>\n",
       "  <tbody>\n",
       "    <tr>\n",
       "      <th>0</th>\n",
       "      <td>11508</td>\n",
       "      <td>https://www.airbnb.com/rooms/11508</td>\n",
       "      <td>2023-12-29</td>\n",
       "      <td>Palermo</td>\n",
       "      <td>-34.581840</td>\n",
       "      <td>-58.424150</td>\n",
       "      <td>Entire home/apt</td>\n",
       "      <td>1.0</td>\n",
       "      <td>96921.0</td>\n",
       "      <td>1</td>\n",
       "      <td>4.79</td>\n",
       "      <td>4.92</td>\n",
       "      <td>4.87</td>\n",
       "      <td>low</td>\n",
       "      <td>1.0</td>\n",
       "      <td>120.0</td>\n",
       "    </tr>\n",
       "    <tr>\n",
       "      <th>1</th>\n",
       "      <td>14222</td>\n",
       "      <td>https://www.airbnb.com/rooms/14222</td>\n",
       "      <td>2023-12-28</td>\n",
       "      <td>Palermo</td>\n",
       "      <td>-34.586170</td>\n",
       "      <td>-58.410360</td>\n",
       "      <td>Entire home/apt</td>\n",
       "      <td>1.0</td>\n",
       "      <td>32123.0</td>\n",
       "      <td>1</td>\n",
       "      <td>4.77</td>\n",
       "      <td>4.87</td>\n",
       "      <td>4.75</td>\n",
       "      <td>low</td>\n",
       "      <td>1.0</td>\n",
       "      <td>40.0</td>\n",
       "    </tr>\n",
       "    <tr>\n",
       "      <th>2</th>\n",
       "      <td>15074</td>\n",
       "      <td>https://www.airbnb.com/rooms/15074</td>\n",
       "      <td>2023-12-29</td>\n",
       "      <td>Nuñez</td>\n",
       "      <td>-34.538920</td>\n",
       "      <td>-58.465990</td>\n",
       "      <td>Private room</td>\n",
       "      <td>1.0</td>\n",
       "      <td>24230.0</td>\n",
       "      <td>0</td>\n",
       "      <td>NaN</td>\n",
       "      <td>NaN</td>\n",
       "      <td>NaN</td>\n",
       "      <td>low</td>\n",
       "      <td>1.0</td>\n",
       "      <td>30.0</td>\n",
       "    </tr>\n",
       "    <tr>\n",
       "      <th>3</th>\n",
       "      <td>16695</td>\n",
       "      <td>https://www.airbnb.com/rooms/16695</td>\n",
       "      <td>2023-12-28</td>\n",
       "      <td>Monserrat</td>\n",
       "      <td>-34.614390</td>\n",
       "      <td>-58.376110</td>\n",
       "      <td>Entire home/apt</td>\n",
       "      <td>1.0</td>\n",
       "      <td>40303.0</td>\n",
       "      <td>0</td>\n",
       "      <td>4.28</td>\n",
       "      <td>4.39</td>\n",
       "      <td>4.41</td>\n",
       "      <td>low</td>\n",
       "      <td>1.0</td>\n",
       "      <td>50.0</td>\n",
       "    </tr>\n",
       "    <tr>\n",
       "      <th>4</th>\n",
       "      <td>20062</td>\n",
       "      <td>https://www.airbnb.com/rooms/20062</td>\n",
       "      <td>2023-12-28</td>\n",
       "      <td>Palermo</td>\n",
       "      <td>-34.581848</td>\n",
       "      <td>-58.441605</td>\n",
       "      <td>Entire home/apt</td>\n",
       "      <td>2.0</td>\n",
       "      <td>138876.0</td>\n",
       "      <td>4</td>\n",
       "      <td>4.93</td>\n",
       "      <td>4.93</td>\n",
       "      <td>4.78</td>\n",
       "      <td>high</td>\n",
       "      <td>1.5</td>\n",
       "      <td>172.0</td>\n",
       "    </tr>\n",
       "  </tbody>\n",
       "</table>\n",
       "</div>"
      ],
      "text/plain": [
       "      id                         listing_url last_scraped  \\\n",
       "0  11508  https://www.airbnb.com/rooms/11508   2023-12-29   \n",
       "1  14222  https://www.airbnb.com/rooms/14222   2023-12-28   \n",
       "2  15074  https://www.airbnb.com/rooms/15074   2023-12-29   \n",
       "3  16695  https://www.airbnb.com/rooms/16695   2023-12-28   \n",
       "4  20062  https://www.airbnb.com/rooms/20062   2023-12-28   \n",
       "\n",
       "  neighbourhood_cleansed   latitude  longitude        room_type  beds  \\\n",
       "0                Palermo -34.581840 -58.424150  Entire home/apt   1.0   \n",
       "1                Palermo -34.586170 -58.410360  Entire home/apt   1.0   \n",
       "2                  Nuñez -34.538920 -58.465990     Private room   1.0   \n",
       "3              Monserrat -34.614390 -58.376110  Entire home/apt   1.0   \n",
       "4                Palermo -34.581848 -58.441605  Entire home/apt   2.0   \n",
       "\n",
       "      price  number_of_reviews_l30d  review_scores_rating  \\\n",
       "0   96921.0                       1                  4.79   \n",
       "1   32123.0                       1                  4.77   \n",
       "2   24230.0                       0                   NaN   \n",
       "3   40303.0                       0                  4.28   \n",
       "4  138876.0                       4                  4.93   \n",
       "\n",
       "   review_scores_location  review_scores_value estimated_nights_booked_l30d  \\\n",
       "0                    4.92                 4.87                          low   \n",
       "1                    4.87                 4.75                          low   \n",
       "2                     NaN                  NaN                          low   \n",
       "3                    4.39                 4.41                          low   \n",
       "4                    4.93                 4.78                         high   \n",
       "\n",
       "   bathrooms  estimated_price_per_night_in_USD  \n",
       "0        1.0                             120.0  \n",
       "1        1.0                              40.0  \n",
       "2        1.0                              30.0  \n",
       "3        1.0                              50.0  \n",
       "4        1.5                             172.0  "
      ]
     },
     "execution_count": 14,
     "metadata": {},
     "output_type": "execute_result"
    }
   ],
   "source": [
    "filtered_listings.head()"
   ]
  },
  {
   "cell_type": "markdown",
   "id": "f59c7947-9873-4c92-abcb-d4f816378d50",
   "metadata": {},
   "source": [
    "### Reviews"
   ]
  },
  {
   "cell_type": "code",
   "execution_count": 21,
   "id": "60301b34-9a69-4609-b3f5-a4363d430f98",
   "metadata": {},
   "outputs": [],
   "source": [
    "reviews = pd.read_csv('raw_data/reviews_full.csv')\n",
    "reviews.drop(columns=['reviewer_id','reviewer_name'], inplace=True)"
   ]
  },
  {
   "cell_type": "markdown",
   "id": "9c15e18c-4943-488f-a115-dafd9649e500",
   "metadata": {},
   "source": [
    "## Save to a local folder"
   ]
  },
  {
   "cell_type": "code",
   "execution_count": 24,
   "id": "827951db-9258-44ab-98ce-845c515385b1",
   "metadata": {
    "tags": []
   },
   "outputs": [],
   "source": [
    "os.makedirs('processed', exist_ok=True)\n",
    "\n",
    "# save the DataFrames to CSV files in the 'processed' directory\n",
    "filtered_listings.to_csv('processed/airbnb_listings.csv', index=False)\n",
    "reviews.to_csv('processed/airbnb_reviews.csv', index=False)"
   ]
  },
  {
   "cell_type": "code",
   "execution_count": null,
   "id": "6eae9b44-36ea-4228-b25e-66770bd8c615",
   "metadata": {},
   "outputs": [],
   "source": []
  },
  {
   "cell_type": "markdown",
   "id": "9ef0f5a3-72e4-42b7-8f2b-0c30eaedd96c",
   "metadata": {},
   "source": [
    "```python\n",
    "https://www.booking.com/searchresults.en-gb.html?ss=Colegiales%2C+Buenos+Aires%2C+Argentina%2C+South+America&ssne=&ssne_untouched=&label=gen173rf-1FCAQoggI49ANIM1gDaFCIAQGYAQm4AQfIAQzYAQHoAQH4AQOIAgGiAgxob29kbWFwcy5jb22oAgO4AvKUla0GwAIB0gIkZTc0YzZlYWEtOGQ5Yy00MTY1LWJlZDQtMmE0NDI5MWYwYTU02AIF4AIB&aid=304142&lang=en-gb&sb=1&src_elem=sb&src=searchresults&dest_id=15755&dest_type=district&ac_position=0&ac_click_type=b&ac_langcode=en&ac_suggestion_list_length=5&search_selected=true&search_pageview_id=b72a6a79f6b5033f&ac_meta=GhBiNzJhNmE3OWY2YjUwMzNmIAAoATICZW46CmNvbGVnaWFsZXNAAEoAUAA%3D&checkin=2024-02-01&checkout=2024-02-29&group_adults=2&no_rooms=1&group_children=0\n",
    "```"
   ]
  },
  {
   "cell_type": "code",
   "execution_count": 16,
   "id": "147bc8a0-b4c8-45f3-9832-d6a4e1f5f852",
   "metadata": {
    "tags": []
   },
   "outputs": [],
   "source": [
    "# this works:\n",
    "# https://www.booking.com/searchresults.en-gb.html?latitude=-34.5745;longitude=-58.451499999999996;&dest_type=district&ac_position=0&ac_click_type=b&ac_langcode=en&ac_suggestion_list_length=5&search_selected=true&search_pageview_id=b72a6a79f6b5033f&ac_meta=GhBiNzJhNmE3OWY2YjUwMzNmIAAoATICZW46CmNvbGVnaWFsZXNAAEoAUAA%3D&checkin=2024-02-01&checkout=2024-02-29&group_adults=2&no_rooms=1&group_children=0"
   ]
  },
  {
   "cell_type": "code",
   "execution_count": 17,
   "id": "d5a5f189-15f3-4ffb-9a64-3eebc94747a5",
   "metadata": {},
   "outputs": [],
   "source": [
    "# a = \"https://www.booking.com/searchresults.en-gb.html?ss=Colegiales%2C+Buenos+Aires%2C+Argentina%2C+South+America&ssne=&ssne_untouched=&label=gen173rf-1FCAQoggI49ANIM1gDaFCIAQGYAQm4AQfIAQzYAQHoAQH4AQOIAgGiAgxob29kbWFwcy5jb22oAgO4AvKUla0GwAIB0gIkZTc0YzZlYWEtOGQ5Yy00MTY1LWJlZDQtMmE0NDI5MWYwYTU02AIF4AIB&aid=304142&lang=en-gb&sb=1&src_elem=sb&src=searchresults&dest_id=15755&dest_type=district&ac_position=0&ac_click_type=b&ac_langcode=en&ac_suggestion_list_length=5&search_selected=true&search_pageview_id=b72a6a79f6b5033f&ac_meta=GhBiNzJhNmE3OWY2YjUwMzNmIAAoATICZW46CmNvbGVnaWFsZXNAAEoAUAA%3D&checkin=2024-02-01&checkout=2024-02-29&group_adults=2&no_rooms=1&group_children=0\""
   ]
  }
 ],
 "metadata": {
  "kernelspec": {
   "display_name": "machinelearnear-zonaprop:Python",
   "language": "python",
   "name": "conda-env-machinelearnear-zonaprop-py"
  },
  "language_info": {
   "codemirror_mode": {
    "name": "ipython",
    "version": 3
   },
   "file_extension": ".py",
   "mimetype": "text/x-python",
   "name": "python",
   "nbconvert_exporter": "python",
   "pygments_lexer": "ipython3",
   "version": "3.9.18"
  }
 },
 "nbformat": 4,
 "nbformat_minor": 5
}

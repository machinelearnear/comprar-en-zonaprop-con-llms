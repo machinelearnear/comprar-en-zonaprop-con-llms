{
 "cells": [
  {
   "cell_type": "markdown",
   "id": "53b74bb6-8659-490f-b0db-16bbc6babfa1",
   "metadata": {
    "tags": []
   },
   "source": [
    "[![Open In SageMaker Studio Lab](https://studiolab.sagemaker.aws/studiolab.svg)](https://studiolab.sagemaker.aws/import/github/machinelearnear/open-hf-spaces-in-studiolab/blob/main/launch_app.ipynb)"
   ]
  },
  {
   "cell_type": "markdown",
   "id": "261a11ab-2952-4901-a5ee-99a090dc13ed",
   "metadata": {
    "tags": []
   },
   "source": [
    "# Open Hugging Face spaces in SageMaker Studio Lab\n",
    "- https://huggingface.co/spaces"
   ]
  },
  {
   "cell_type": "code",
   "execution_count": null,
   "id": "25a5b73b-13f7-4d46-8be0-2c0f8699b16a",
   "metadata": {},
   "outputs": [],
   "source": [
    "from helper import RepoHandler"
   ]
  },
  {
   "cell_type": "code",
   "execution_count": null,
   "id": "20787388-0d6f-4074-9665-9d00b68a5559",
   "metadata": {},
   "outputs": [],
   "source": [
    "domain = 'luzdatd5d7fmka0'\n",
    "region = 'us-east-2'"
   ]
  },
  {
   "cell_type": "code",
   "execution_count": null,
   "id": "f8eab75d-0dc2-4445-aa94-3d094168b7d1",
   "metadata": {},
   "outputs": [],
   "source": [
    "app = RepoHandler(\n",
    "    repo_url='https://huggingface.co/spaces/hysts/LoRA-SD-training'\n",
    ")"
   ]
  },
  {
   "cell_type": "code",
   "execution_count": null,
   "id": "bb3788bd-e5cd-4430-a127-dfb01bea9e69",
   "metadata": {},
   "outputs": [],
   "source": [
    "app.clone_repo(overwrite=True)\n",
    "app.install_requirements()"
   ]
  },
  {
   "cell_type": "code",
   "execution_count": null,
   "id": "4ebf9889-31a4-46e2-8a50-23511fbdb410",
   "metadata": {},
   "outputs": [],
   "source": [
    "app.run_web_demo()"
   ]
  }
 ],
 "metadata": {
  "kernelspec": {
   "display_name": "default:Python",
   "language": "python",
   "name": "conda-env-default-py"
  },
  "language_info": {
   "codemirror_mode": {
    "name": "ipython",
    "version": 3
   },
   "file_extension": ".py",
   "mimetype": "text/x-python",
   "name": "python",
   "nbconvert_exporter": "python",
   "pygments_lexer": "ipython3",
   "version": "3.9.13"
  }
 },
 "nbformat": 4,
 "nbformat_minor": 5
}

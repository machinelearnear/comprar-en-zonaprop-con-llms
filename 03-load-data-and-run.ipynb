{
 "cells": [
  {
   "cell_type": "markdown",
   "id": "35246e61-9175-4d2d-ba78-ec51058446c0",
   "metadata": {},
   "source": [
    "# Using LLMs to analyse `Zonaprop` listings\n",
    "- https://www.machinelearnear.com/\n",
    "- https://www.youtube.com/@machinelearnear\n",
    "- https://www.youtube.com/watch?v=DuujwXarVbY&ab_channel=SantiagoMagnin"
   ]
  },
  {
   "cell_type": "code",
   "execution_count": 2,
   "id": "de0d24a5-c565-4060-bf1b-f2719dd30b9e",
   "metadata": {
    "tags": []
   },
   "outputs": [],
   "source": [
    "import pandas as pd\n",
    "import numpy as np"
   ]
  },
  {
   "cell_type": "code",
   "execution_count": 3,
   "id": "26fbf6a2-f29d-4126-90bc-3f3c28514111",
   "metadata": {
    "tags": []
   },
   "outputs": [],
   "source": [
    "# load data from local\n",
    "zonaprop_listings = pd.read_csv('processed/zonaprop_with_viewcount.csv')"
   ]
  },
  {
   "cell_type": "markdown",
   "id": "d2c39454-a6d6-4f68-b2f1-f8aa14327408",
   "metadata": {},
   "source": [
    "## Que criterio vamos a usar para filtrar las propiedades?\n",
    "Nos vamos a basar en esto que dice el groso de [Santiago Magnin](https://twitter.com/santivende) en este video [*\"GUÍA 2024 para COMPRADORES 💣 Webinar bomba 💣 ¿Cómo comprar con Javier Milei Presidente?\"*](https://www.youtube.com/watch?v=DuujwXarVbY&ab_channel=SantiagoMagnin).\n",
    "\n",
    "En resumen, para `Zonaprop`:\n",
    "- (1) ~60 visitas/dia, se reservan en la primera semana, negociación promedio del 2%\n",
    "- (2) ~30 visitas/dia, se reservan entre 8 y 30 dias, negociación promedio del 5%\n",
    "- (3) ~20 visitas/dia, se reservan entre 31 y 60 dias, negociación promedio del 7%\n",
    "- (4) ~10 visitas/dia, se reservan en más de 60 dias, negociación promedio del 8%"
   ]
  },
  {
   "cell_type": "markdown",
   "id": "d3f76c0b-8a5f-4f79-a9f8-9527b66b8daf",
   "metadata": {},
   "source": [
    "## Como traemos la información de `Airbnb`?"
   ]
  },
  {
   "cell_type": "code",
   "execution_count": 94,
   "id": "e4e3e850-95bd-42c9-a33a-9a67fe1b6087",
   "metadata": {
    "tags": []
   },
   "outputs": [],
   "source": [
    "from sklearn.neighbors import BallTree\n",
    "\n",
    "def find_within_radius(reference_df, target_df, radius_km=1):\n",
    "    # Convert radius from kilometers to radians for BallTree\n",
    "    radius_rad = radius_km / 6371  # Earth's radius in km\n",
    "\n",
    "    # Creating BallTree with target data\n",
    "    tree = BallTree(np.deg2rad(target_df[['latitude', 'longitude']].values), metric='haversine')\n",
    "\n",
    "    # Initialize DataFrame to store results\n",
    "    results_df = pd.DataFrame()\n",
    "\n",
    "    # Iterate over reference DataFrame\n",
    "    for index, row in reference_df.iterrows():\n",
    "        # Query BallTree\n",
    "        indices = tree.query_radius(np.deg2rad([[row['latitude'], row['longitude']]]), r=radius_rad)\n",
    "        # Extract relevant rows from target DataFrame\n",
    "        filtered_df = target_df.iloc[indices[0]]\n",
    "        results_df = pd.concat([results_df, filtered_df])\n",
    "\n",
    "    return results_df"
   ]
  },
  {
   "cell_type": "code",
   "execution_count": 95,
   "id": "a271814b-ceab-47bc-9681-f00afd81b3b0",
   "metadata": {
    "tags": []
   },
   "outputs": [],
   "source": [
    "airbnb_listings = pd.read_csv('processed/airbnb_listings.csv')\n",
    "# airbnb_reviews = pd.read_csv('processed/airbnb_reviews.csv')"
   ]
  },
  {
   "cell_type": "markdown",
   "id": "90424124-bf4a-4b4a-b46b-8a4c2d7a57a1",
   "metadata": {
    "tags": []
   },
   "source": [
    "### Encontrar los listings mas cercanos"
   ]
  },
  {
   "cell_type": "code",
   "execution_count": 102,
   "id": "09268877-2faa-4741-abfe-d02e8326d9a1",
   "metadata": {
    "tags": []
   },
   "outputs": [],
   "source": [
    "def find_within_radius(row, airbnb_listings, radius_km):\n",
    "    radius_rad = radius_km / 6371\n",
    "    valid_listings = airbnb_listings.dropna(subset=['latitude', 'longitude'])\n",
    "    tree = BallTree(np.deg2rad(valid_listings[['latitude', 'longitude']].values), metric='haversine')\n",
    "    if pd.notnull(row['latitude']) and pd.notnull(row['longitude']):\n",
    "        indices = tree.query_radius(np.deg2rad([[row['latitude'], row['longitude']]]), r=radius_rad)\n",
    "        return valid_listings.iloc[indices[0]]\n",
    "    return pd.DataFrame()"
   ]
  },
  {
   "cell_type": "code",
   "execution_count": 134,
   "id": "0123ac2f-84d6-4eef-ba30-5c4ab87d23fe",
   "metadata": {
    "tags": []
   },
   "outputs": [],
   "source": [
    "from sklearn.neighbors import BallTree\n",
    "import numpy as np\n",
    "import pandas as pd\n",
    "\n",
    "def obtener_info_relevante(listings, airbnb_listings, radius_km):\n",
    "    listings = listings.copy()\n",
    "    listings['latitude'] = pd.to_numeric(listings['latitude'], errors='coerce')\n",
    "    listings['longitude'] = pd.to_numeric(listings['longitude'], errors='coerce')\n",
    "\n",
    "    def find_within_radius(row, radius_km):\n",
    "        radius_rad = radius_km / 6371\n",
    "        valid_listings = airbnb_listings.dropna(subset=['latitude', 'longitude'])\n",
    "        tree = BallTree(np.deg2rad(valid_listings[['latitude', 'longitude']].values), metric='haversine')\n",
    "        if pd.notnull(row['latitude']) and pd.notnull(row['longitude']):\n",
    "            indices = tree.query_radius(np.deg2rad([[row['latitude'], row['longitude']]]), r=radius_rad)\n",
    "            return valid_listings.iloc[indices[0]]\n",
    "        return pd.DataFrame()\n",
    "\n",
    "    for index, row in listings.iterrows():\n",
    "        closest_listings = find_within_radius(row, radius_km)\n",
    "        if closest_listings.empty: continue\n",
    "        filtered = closest_listings.dropna(subset=['estimated_price_per_night_in_USD', 'review_scores_rating', \n",
    "                           'review_scores_location', 'review_scores_value', 'room_type', 'estimated_nights_booked_l30d'])\n",
    "\n",
    "        # calcular la probabilidad de alquiler\n",
    "        booking_counts = filtered['estimated_nights_booked_l30d'].value_counts()\n",
    "        probabilidad_alquiler = 'más probable' if (booking_counts.get('high', 0) > booking_counts.get('low', 0)\n",
    "                                                  ) and (booking_counts.get('high', 0) > booking_counts.get('medium', 0)) else 'menos probable'\n",
    "        listings.at[index, 'airbnb_probabilidad_alquiler'] = probabilidad_alquiler\n",
    "        \n",
    "        # otros numeros grosos\n",
    "        listings.at[index, 'airbnb_avg_price_entire_home'] = filtered[filtered['room_type'] == 'Entire home/apt']['estimated_price_per_night_in_USD'].mean()\n",
    "        listings.at[index, 'airbnb_avg_price_private_room'] = filtered[filtered['room_type'] == 'Private room']['estimated_price_per_night_in_USD'].mean()\n",
    "        listings.at[index, 'airbnb_avg_review_score_rating'] = filtered['review_scores_rating'].mean()\n",
    "        listings.at[index, 'airbnb_avg_review_score_location'] = filtered['review_scores_location'].mean()\n",
    "        listings.at[index, 'airbnb_avg_review_score_value'] = filtered['review_scores_value'].mean()\n",
    "\n",
    "    return listings"
   ]
  },
  {
   "cell_type": "code",
   "execution_count": 135,
   "id": "6e8d1716-ab4a-40d8-9dc4-2a90b20d96b4",
   "metadata": {
    "tags": []
   },
   "outputs": [],
   "source": [
    "# # Suponiendo que high_relevance_listings y airbnb_listings son tus DataFrames\n",
    "a = obtener_info_relevante(high_relevance_listings, airbnb_listings, 0.3)"
   ]
  },
  {
   "cell_type": "code",
   "execution_count": 136,
   "id": "01f54f4a-daef-42ac-84e8-f7a8214b49e4",
   "metadata": {
    "tags": []
   },
   "outputs": [
    {
     "data": {
      "text/plain": [
       "listing_url                         https://www.zonaprop.com.ar/propiedades/depart...\n",
       "asking_price_in_usd                                                            110000\n",
       "expensas_in_ars                                                               15000.0\n",
       "latitude                                                                   -34.574835\n",
       "longitude                                                                   -58.44179\n",
       "google_maps                         https://maps.google.com/?q=-34.5748353589,-58....\n",
       "photos                              ['https://imgar.zonapropcdn.com/avisos/1/00/52...\n",
       "whatsapp                                                              5492213588285.0\n",
       "published_on                                                               19-01-2024\n",
       "disposición                                                                    Frente\n",
       "luminoso                                                                 Muy luminoso\n",
       "orientación                                                                         E\n",
       "superficietotal                                                                  65.0\n",
       "superficiecubierta                                                               65.0\n",
       "ambientes                                                                         3.0\n",
       "dormitorio                                                                        NaN\n",
       "baño                                                                              1.0\n",
       "antigüedad                                                                        NaN\n",
       "cantidadplantas                                                                     1\n",
       "superficiesemicubiertam²                                                          0.0\n",
       "dormitorios                                                                       2.0\n",
       "aptocrédito                                                              Apto crédito\n",
       "cantidadpisosenedificio                                                           NaN\n",
       "user_views                                                                         84\n",
       "days                                                                                1\n",
       "views_per_day                                                                      84\n",
       "usd_per_m2                                                                     1692.0\n",
       "airbnb_probabilidad_alquiler                                           menos probable\n",
       "airbnb_avg_price_entire_home                                                    58.05\n",
       "airbnb_avg_price_private_room                                              156.666667\n",
       "airbnb_avg_review_score_rating                                               4.763436\n",
       "airbnb_avg_review_score_location                                             4.835153\n",
       "airbnb_avg_review_score_value                                                 4.67681\n",
       "Name: 0, dtype: object"
      ]
     },
     "execution_count": 136,
     "metadata": {},
     "output_type": "execute_result"
    }
   ],
   "source": [
    "a.loc[0]"
   ]
  },
  {
   "cell_type": "code",
   "execution_count": 123,
   "id": "ec3d4639-d893-4161-9be9-ebe62d0a10fb",
   "metadata": {
    "tags": []
   },
   "outputs": [
    {
     "data": {
      "text/html": [
       "<div>\n",
       "<style scoped>\n",
       "    .dataframe tbody tr th:only-of-type {\n",
       "        vertical-align: middle;\n",
       "    }\n",
       "\n",
       "    .dataframe tbody tr th {\n",
       "        vertical-align: top;\n",
       "    }\n",
       "\n",
       "    .dataframe thead th {\n",
       "        text-align: right;\n",
       "    }\n",
       "</style>\n",
       "<table border=\"1\" class=\"dataframe\">\n",
       "  <thead>\n",
       "    <tr style=\"text-align: right;\">\n",
       "      <th></th>\n",
       "      <th>listing_url</th>\n",
       "      <th>asking_price_in_usd</th>\n",
       "      <th>expensas_in_ars</th>\n",
       "      <th>latitude</th>\n",
       "      <th>longitude</th>\n",
       "      <th>google_maps</th>\n",
       "      <th>photos</th>\n",
       "      <th>whatsapp</th>\n",
       "      <th>published_on</th>\n",
       "      <th>disposición</th>\n",
       "      <th>...</th>\n",
       "      <th>usd_per_m2</th>\n",
       "      <th>avg_price_entire_home</th>\n",
       "      <th>avg_price_private_room</th>\n",
       "      <th>booking_likelihood_low</th>\n",
       "      <th>booking_likelihood_medium</th>\n",
       "      <th>booking_likelihood_high</th>\n",
       "      <th>avg_review_score_rating</th>\n",
       "      <th>avg_review_score_location</th>\n",
       "      <th>avg_review_score_value</th>\n",
       "      <th>probabilidad_alquiler</th>\n",
       "    </tr>\n",
       "  </thead>\n",
       "  <tbody>\n",
       "    <tr>\n",
       "      <th>0</th>\n",
       "      <td>https://www.zonaprop.com.ar/propiedades/depart...</td>\n",
       "      <td>110000</td>\n",
       "      <td>15000.0</td>\n",
       "      <td>-34.574835</td>\n",
       "      <td>-58.44179</td>\n",
       "      <td>https://maps.google.com/?q=-34.5748353589,-58....</td>\n",
       "      <td>['https://imgar.zonapropcdn.com/avisos/1/00/52...</td>\n",
       "      <td>5.492214e+12</td>\n",
       "      <td>19-01-2024</td>\n",
       "      <td>Frente</td>\n",
       "      <td>...</td>\n",
       "      <td>1692.0</td>\n",
       "      <td>58.05</td>\n",
       "      <td>156.666667</td>\n",
       "      <td>118.0</td>\n",
       "      <td>21.0</td>\n",
       "      <td>24.0</td>\n",
       "      <td>4.763436</td>\n",
       "      <td>4.835153</td>\n",
       "      <td>4.67681</td>\n",
       "      <td>menos probable</td>\n",
       "    </tr>\n",
       "    <tr>\n",
       "      <th>1</th>\n",
       "      <td>https://www.zonaprop.com.ar/propiedades/depto-...</td>\n",
       "      <td>120000</td>\n",
       "      <td>40000.0</td>\n",
       "      <td>NaN</td>\n",
       "      <td>NaN</td>\n",
       "      <td>https://maps.google.com/?q=No se encontró la l...</td>\n",
       "      <td>['https://imgar.zonapropcdn.com/avisos/1/00/52...</td>\n",
       "      <td>5.491168e+12</td>\n",
       "      <td>19-01-2024</td>\n",
       "      <td>Frente</td>\n",
       "      <td>...</td>\n",
       "      <td>1935.0</td>\n",
       "      <td>NaN</td>\n",
       "      <td>NaN</td>\n",
       "      <td>NaN</td>\n",
       "      <td>NaN</td>\n",
       "      <td>NaN</td>\n",
       "      <td>NaN</td>\n",
       "      <td>NaN</td>\n",
       "      <td>NaN</td>\n",
       "      <td>nan</td>\n",
       "    </tr>\n",
       "  </tbody>\n",
       "</table>\n",
       "<p>2 rows × 36 columns</p>\n",
       "</div>"
      ],
      "text/plain": [
       "                                         listing_url  asking_price_in_usd  \\\n",
       "0  https://www.zonaprop.com.ar/propiedades/depart...               110000   \n",
       "1  https://www.zonaprop.com.ar/propiedades/depto-...               120000   \n",
       "\n",
       "   expensas_in_ars   latitude  longitude  \\\n",
       "0          15000.0 -34.574835  -58.44179   \n",
       "1          40000.0        NaN        NaN   \n",
       "\n",
       "                                         google_maps  \\\n",
       "0  https://maps.google.com/?q=-34.5748353589,-58....   \n",
       "1  https://maps.google.com/?q=No se encontró la l...   \n",
       "\n",
       "                                              photos      whatsapp  \\\n",
       "0  ['https://imgar.zonapropcdn.com/avisos/1/00/52...  5.492214e+12   \n",
       "1  ['https://imgar.zonapropcdn.com/avisos/1/00/52...  5.491168e+12   \n",
       "\n",
       "  published_on disposición  ... usd_per_m2 avg_price_entire_home  \\\n",
       "0   19-01-2024      Frente  ...     1692.0                 58.05   \n",
       "1   19-01-2024      Frente  ...     1935.0                   NaN   \n",
       "\n",
       "   avg_price_private_room  booking_likelihood_low  booking_likelihood_medium  \\\n",
       "0              156.666667                   118.0                       21.0   \n",
       "1                     NaN                     NaN                        NaN   \n",
       "\n",
       "   booking_likelihood_high  avg_review_score_rating avg_review_score_location  \\\n",
       "0                     24.0                 4.763436                  4.835153   \n",
       "1                      NaN                      NaN                       NaN   \n",
       "\n",
       "  avg_review_score_value  probabilidad_alquiler  \n",
       "0                4.67681         menos probable  \n",
       "1                    NaN                    nan  \n",
       "\n",
       "[2 rows x 36 columns]"
      ]
     },
     "execution_count": 123,
     "metadata": {},
     "output_type": "execute_result"
    }
   ],
   "source": [
    "a"
   ]
  },
  {
   "cell_type": "code",
   "execution_count": null,
   "id": "a5a7efc4-8c3c-4e0b-98fc-faa026aea9fb",
   "metadata": {},
   "outputs": [],
   "source": [
    "# filtering out NaN values for relevant columns\n",
    "filtered_df = closest_listings.dropna(subset=['estimated_price_per_night_in_USD', 'review_scores_rating', \n",
    "                                              'review_scores_location', 'review_scores_value', 'room_type'])\n",
    "\n",
    "# average estimated price per night in USD, considering room type\n",
    "average_price_entire_home = filtered_df[filtered_df['room_type'] == 'Entire home/apt']['estimated_price_per_night_in_USD'].mean()\n",
    "average_price_private_room = filtered_df[filtered_df['room_type'] == 'Private room']['estimated_price_per_night_in_USD'].mean()\n",
    "\n",
    "# count of estimated nights booked in the last 30 days by category\n",
    "booking_counts = filtered_df['estimated_nights_booked_l30d'].value_counts()\n",
    "\n",
    "# average review scores\n",
    "average_review_score_rating = filtered_df['review_scores_rating'].mean()\n",
    "average_review_score_location = filtered_df['review_scores_location'].mean()\n",
    "average_review_score_value = filtered_df['review_scores_value'].mean()\n",
    "\n",
    "# generate markdown summary\n",
    "markdown_summary = f\"\"\"\n",
    "### Summary of Airbnb Listings Near Zonaprop Location\n",
    "\n",
    "- **Average Estimated Price Per Night in USD**:\n",
    "    - Entire home/apt: {average_price_entire_home:.2f} USD\n",
    "    - Private room: {average_price_private_room:.2f} USD (if applicable)\n",
    "\n",
    "- **Booking Likelihood (Last 30 Days)**:\n",
    "    - Low: {booking_counts.get('low', 0)} listings\n",
    "    - Medium: {booking_counts.get('medium', 0)} listings\n",
    "    - High: {booking_counts.get('high', 0)} listings\n",
    "    - The data suggests that an apartment in this neighbourhood is {'more likely' if (booking_counts.get('high', 0) > booking_counts.get('low', 0)) and (booking_counts.get('high', 0) > booking_counts.get('medium', 0)) else 'less likely'} to get rented.\n",
    "\n",
    "- **Average Review Scores**:\n",
    "    - Overall Rating: {average_review_score_rating:.2f}/5\n",
    "    - Location Rating: {average_review_score_location:.2f}/5\n",
    "    - Value Rating: {average_review_score_value:.2f}/5\n",
    "\"\"\""
   ]
  },
  {
   "cell_type": "markdown",
   "id": "1b0512a4-739e-4e56-9101-c4d17cb72cd1",
   "metadata": {},
   "source": [
    "## Categoria (1)"
   ]
  },
  {
   "cell_type": "code",
   "execution_count": 125,
   "id": "acc6680b-c291-4f7f-8922-82f27e273633",
   "metadata": {
    "tags": []
   },
   "outputs": [],
   "source": [
    "high_relevance_listings = zonaprop_listings[zonaprop_listings.views_per_day > 60].reset_index(drop=True)\n",
    "high_relevance_listings = high_relevance_listings.dropna(axis=1, how='all')"
   ]
  },
  {
   "cell_type": "code",
   "execution_count": 126,
   "id": "a8f9f6db-2222-4119-9938-30bd6aaeedc8",
   "metadata": {
    "tags": []
   },
   "outputs": [
    {
     "data": {
      "text/html": [
       "<div>\n",
       "<style scoped>\n",
       "    .dataframe tbody tr th:only-of-type {\n",
       "        vertical-align: middle;\n",
       "    }\n",
       "\n",
       "    .dataframe tbody tr th {\n",
       "        vertical-align: top;\n",
       "    }\n",
       "\n",
       "    .dataframe thead th {\n",
       "        text-align: right;\n",
       "    }\n",
       "</style>\n",
       "<table border=\"1\" class=\"dataframe\">\n",
       "  <thead>\n",
       "    <tr style=\"text-align: right;\">\n",
       "      <th></th>\n",
       "      <th>listing_url</th>\n",
       "      <th>asking_price_in_usd</th>\n",
       "      <th>expensas_in_ars</th>\n",
       "      <th>latitude</th>\n",
       "      <th>longitude</th>\n",
       "      <th>google_maps</th>\n",
       "      <th>photos</th>\n",
       "      <th>whatsapp</th>\n",
       "      <th>published_on</th>\n",
       "      <th>disposición</th>\n",
       "      <th>...</th>\n",
       "      <th>antigüedad</th>\n",
       "      <th>cantidadplantas</th>\n",
       "      <th>superficiesemicubiertam²</th>\n",
       "      <th>dormitorios</th>\n",
       "      <th>aptocrédito</th>\n",
       "      <th>cantidadpisosenedificio</th>\n",
       "      <th>user_views</th>\n",
       "      <th>days</th>\n",
       "      <th>views_per_day</th>\n",
       "      <th>usd_per_m2</th>\n",
       "    </tr>\n",
       "  </thead>\n",
       "  <tbody>\n",
       "    <tr>\n",
       "      <th>0</th>\n",
       "      <td>https://www.zonaprop.com.ar/propiedades/depart...</td>\n",
       "      <td>110000</td>\n",
       "      <td>15000.0</td>\n",
       "      <td>-34.5748353589</td>\n",
       "      <td>-58.4417900061</td>\n",
       "      <td>https://maps.google.com/?q=-34.5748353589,-58....</td>\n",
       "      <td>['https://imgar.zonapropcdn.com/avisos/1/00/52...</td>\n",
       "      <td>5.492214e+12</td>\n",
       "      <td>19-01-2024</td>\n",
       "      <td>Frente</td>\n",
       "      <td>...</td>\n",
       "      <td>NaN</td>\n",
       "      <td>1</td>\n",
       "      <td>0.0</td>\n",
       "      <td>2.0</td>\n",
       "      <td>Apto crédito</td>\n",
       "      <td>NaN</td>\n",
       "      <td>84</td>\n",
       "      <td>1</td>\n",
       "      <td>84</td>\n",
       "      <td>1692.0</td>\n",
       "    </tr>\n",
       "    <tr>\n",
       "      <th>1</th>\n",
       "      <td>https://www.zonaprop.com.ar/propiedades/depto-...</td>\n",
       "      <td>120000</td>\n",
       "      <td>40000.0</td>\n",
       "      <td>No se encontró la latitud</td>\n",
       "      <td>No se encontró la longitud</td>\n",
       "      <td>https://maps.google.com/?q=No se encontró la l...</td>\n",
       "      <td>['https://imgar.zonapropcdn.com/avisos/1/00/52...</td>\n",
       "      <td>5.491168e+12</td>\n",
       "      <td>19-01-2024</td>\n",
       "      <td>Frente</td>\n",
       "      <td>...</td>\n",
       "      <td>30</td>\n",
       "      <td>1</td>\n",
       "      <td>NaN</td>\n",
       "      <td>NaN</td>\n",
       "      <td>Apto crédito</td>\n",
       "      <td>9.0</td>\n",
       "      <td>111</td>\n",
       "      <td>1</td>\n",
       "      <td>111</td>\n",
       "      <td>1935.0</td>\n",
       "    </tr>\n",
       "  </tbody>\n",
       "</table>\n",
       "<p>2 rows × 27 columns</p>\n",
       "</div>"
      ],
      "text/plain": [
       "                                         listing_url  asking_price_in_usd  \\\n",
       "0  https://www.zonaprop.com.ar/propiedades/depart...               110000   \n",
       "1  https://www.zonaprop.com.ar/propiedades/depto-...               120000   \n",
       "\n",
       "   expensas_in_ars                   latitude                   longitude  \\\n",
       "0          15000.0             -34.5748353589              -58.4417900061   \n",
       "1          40000.0  No se encontró la latitud  No se encontró la longitud   \n",
       "\n",
       "                                         google_maps  \\\n",
       "0  https://maps.google.com/?q=-34.5748353589,-58....   \n",
       "1  https://maps.google.com/?q=No se encontró la l...   \n",
       "\n",
       "                                              photos      whatsapp  \\\n",
       "0  ['https://imgar.zonapropcdn.com/avisos/1/00/52...  5.492214e+12   \n",
       "1  ['https://imgar.zonapropcdn.com/avisos/1/00/52...  5.491168e+12   \n",
       "\n",
       "  published_on disposición  ... antigüedad cantidadplantas  \\\n",
       "0   19-01-2024      Frente  ...        NaN               1   \n",
       "1   19-01-2024      Frente  ...         30               1   \n",
       "\n",
       "   superficiesemicubiertam²  dormitorios   aptocrédito  \\\n",
       "0                       0.0          2.0  Apto crédito   \n",
       "1                       NaN          NaN  Apto crédito   \n",
       "\n",
       "   cantidadpisosenedificio  user_views days views_per_day  usd_per_m2  \n",
       "0                      NaN          84    1            84      1692.0  \n",
       "1                      9.0         111    1           111      1935.0  \n",
       "\n",
       "[2 rows x 27 columns]"
      ]
     },
     "execution_count": 126,
     "metadata": {},
     "output_type": "execute_result"
    }
   ],
   "source": [
    "high_relevance_listings"
   ]
  },
  {
   "cell_type": "code",
   "execution_count": null,
   "id": "d29d6c28-cb9b-4c6b-af83-09a269261a8a",
   "metadata": {},
   "outputs": [],
   "source": []
  },
  {
   "cell_type": "code",
   "execution_count": null,
   "id": "870ea246-db96-4fbd-9ce7-32b1ab7d332d",
   "metadata": {},
   "outputs": [],
   "source": []
  },
  {
   "cell_type": "code",
   "execution_count": null,
   "id": "149bf98d-d15e-40de-bbfa-53ff30cc88fb",
   "metadata": {},
   "outputs": [],
   "source": []
  },
  {
   "cell_type": "code",
   "execution_count": 64,
   "id": "2ac3c227-7fee-4c97-bbd0-dd3012d86e3c",
   "metadata": {
    "tags": []
   },
   "outputs": [
    {
     "name": "stdout",
     "output_type": "stream",
     "text": [
      "index: 1, listing_url: https://www.zonaprop.com.ar/propiedades/departamento-en-venta-2-dorm.-1-bano-65-m-sup2--52950315.html, asking_price_in_usd: 110000, expensas_in_ars: 15000.0, latitude: -34.5748353589, longitude: -58.4417900061, google_maps: https://maps.google.com/?q=-34.5748353589,-58.4417900061, photos: ['https://imgar.zonapropcdn.com/avisos/1/00/52/95/03/15/1200x1200/1895481551.jpg?isFirstImage=true', 'https://imgar.zonapropcdn.com/avisos/1/00/52/95/03/15/1200x1200/1895481552.jpg', 'https://imgar.zonapropcdn.com/avisos/1/00/52/95/03/15/1200x1200/1895481535.jpg', 'https://imgar.zonapropcdn.com/avisos/1/00/52/95/03/15/1200x1200/1895481550.jpg', 'https://imgar.zonapropcdn.com/avisos/1/00/52/95/03/15/1200x1200/1895481531.jpg', 'https://imgar.zonapropcdn.com/avisos/1/00/52/95/03/15/1200x1200/1895481545.jpg', 'https://imgar.zonapropcdn.com/avisos/1/00/52/95/03/15/1200x1200/1895481530.jpg', 'https://imgar.zonapropcdn.com/avisos/1/00/52/95/03/15/1200x1200/1895481537.jpg'], whatsapp: 5492213588285.0, published_on: 19-01-2024, disposición: Frente, luminoso: Muy luminoso, orientación: E, superficietotal: 65.0, superficiecubierta: 65.0, ambientes: 3.0, baño: 1.0, cantidadplantas: 1, superficiesemicubiertam²: 0.0, dormitorios: 2.0, aptocrédito: Apto crédito, user_views: 84, days: 1, views_per_day: 84, usd_per_m2: 1692.0\n"
     ]
    }
   ],
   "source": [
    "# Acceder al ítem específico donde views_per_day es 0\n",
    "item = zonaprop_listings[zonaprop_listings.views_per_day > 30].reset_index().loc[0]\n",
    "\n",
    "# Crear una lista para guardar cada par columna-valor\n",
    "pares_columna_valor = []\n",
    "\n",
    "# Recorrer cada columna y su valor, excluyendo los NaN\n",
    "for columna, valor in item.items():\n",
    "    if pd.notnull(valor):\n",
    "        pares_columna_valor.append(f'{columna}: {valor}')\n",
    "\n",
    "# Unir todos los pares en una sola string\n",
    "string_resultante = ', '.join(pares_columna_valor)\n",
    "\n",
    "print(string_resultante)"
   ]
  },
  {
   "cell_type": "markdown",
   "id": "fcef861d-b3ae-49fc-a8b8-22a45f7013bf",
   "metadata": {},
   "source": [
    "## Usamos `Mixtral` a través de `Together.ai` "
   ]
  },
  {
   "cell_type": "code",
   "execution_count": 65,
   "id": "07df0b26-4166-40a4-a497-d330aba4ad20",
   "metadata": {
    "tags": []
   },
   "outputs": [],
   "source": [
    "from openai import OpenAI\n",
    "import os"
   ]
  },
  {
   "cell_type": "code",
   "execution_count": 66,
   "id": "f9308eef-1a87-42db-8e47-81034a572c09",
   "metadata": {
    "tags": []
   },
   "outputs": [],
   "source": [
    "TOGETHER_API_KEY = \"\"\n",
    "client = OpenAI(api_key=TOGETHER_API_KEY, base_url='https://api.together.xyz')"
   ]
  },
  {
   "cell_type": "code",
   "execution_count": 67,
   "id": "9091b068-382b-4e33-9bff-2f4c2ae89953",
   "metadata": {
    "tags": []
   },
   "outputs": [],
   "source": [
    "system_instructions = \"You are an AI assistant that always responds in Argentinian Spanish and you are concise and professional\"\n",
    "user_query = f\"\"\"\n",
    "Using the following information from a property listing in Buenos Aires, write a summary, paying more attention to\n",
    "`asking_price` and `usd_per_m2`. Skip any URL.\n",
    "{string_resultante}\n",
    "\"\"\""
   ]
  },
  {
   "cell_type": "code",
   "execution_count": 68,
   "id": "0d2ed396-1ab9-4700-a6df-5a293c801ff3",
   "metadata": {
    "tags": []
   },
   "outputs": [],
   "source": [
    "messages=[\n",
    "    {\"role\": \"system\", \"content\": system_instructions},\n",
    "    {\"role\": \"user\", \"content\": user_query}\n",
    "]"
   ]
  },
  {
   "cell_type": "code",
   "execution_count": 69,
   "id": "4daeab51-4062-442a-895c-6e03e6d7b5f3",
   "metadata": {
    "tags": []
   },
   "outputs": [],
   "source": [
    "chat_completion = client.chat.completions.create(\n",
    "    messages=messages,\n",
    "    model=\"mistralai/Mixtral-8x7B-Instruct-v0.1\",\n",
    "    max_tokens=1024\n",
    ")"
   ]
  },
  {
   "cell_type": "code",
   "execution_count": 70,
   "id": "bf0ad450-8f24-46dc-b76f-15c2943029c2",
   "metadata": {
    "tags": []
   },
   "outputs": [
    {
     "name": "stdout",
     "output_type": "stream",
     "text": [
      "Se trata de un departamento en venta en Buenos Aires, con una superficie cubierta de 65 m² y un precio de venta de USD 110.000. Ubicado en una zona con fácil acceso y muy iluminado, cuenta con dos dormitorios, un baño y tres ambientes en total. El valor por metro cuadrado es de USD 1692. El edificio cuenta con una sola planta y el departamento está orientado al este. El mantenimiento del edificio es de ARS 15.000 por mes. El departamento está aprobado para crédito y ha recibido 84 visitas en un día, lo que equivale a 84 visitas por día. Está disponible en la siguiente dirección: (-34.5748353589, -58.4417900061). Para más información, por favor comuníquese al número de WhatsApp (+5492213588285). Publicado el 19-01-2024.\n"
     ]
    }
   ],
   "source": [
    "print(chat_completion.choices[0].message.content)"
   ]
  },
  {
   "cell_type": "code",
   "execution_count": 59,
   "id": "ef26dd44-ec6e-4dfd-b20b-cad0f53a6335",
   "metadata": {
    "tags": []
   },
   "outputs": [
    {
     "name": "stdout",
     "output_type": "stream",
     "text": [
      "index: 0, listing_url: https://www.zonaprop.com.ar/propiedades/departamento-en-venta-en-retiro-52950487.html, asking_price_in_usd: 84000, expensas_in_ars: 96989.0, latitude: -34.5967581064, longitude: -58.3731719, google_maps: https://maps.google.com/?q=-34.5967581064,-58.3731719, photos: ['https://imgar.zonapropcdn.com/avisos/1/00/52/95/04/87/1200x1200/1895489221.jpg?isFirstImage=true', 'https://imgar.zonapropcdn.com/avisos/1/00/52/95/04/87/1200x1200/1895485012.jpg', 'https://imgar.zonapropcdn.com/avisos/1/00/52/95/04/87/1200x1200/1895485006.jpg', 'https://imgar.zonapropcdn.com/avisos/1/00/52/95/04/87/1200x1200/1895485004.jpg', 'https://imgar.zonapropcdn.com/avisos/1/00/52/95/04/87/1200x1200/1895484993.jpg', 'https://imgar.zonapropcdn.com/avisos/1/00/52/95/04/87/1200x1200/1895484982.jpg', 'https://imgar.zonapropcdn.com/avisos/1/00/52/95/04/87/1200x1200/1895484995.jpg', 'https://imgar.zonapropcdn.com/avisos/1/00/52/95/04/87/1200x1200/1895484986.jpg'], whatsapp: 5491138334554.0, published_on: 19-01-2024, disposición: Frente, orientación: E, superficietotal: 34.0, superficiecubierta: 34.0, ambientes: 2.0, dormitorio: 1.0, baño: 1.0, antigüedad: 68, cantidadplantas: 1, superficiesemicubiertam²: 0.0, user_views: 0, days: 1, views_per_day: 0, usd_per_m2: 2470.0\n"
     ]
    }
   ],
   "source": []
  },
  {
   "cell_type": "code",
   "execution_count": null,
   "id": "9dc423a5-cae4-4faf-821d-066af0a7d642",
   "metadata": {},
   "outputs": [],
   "source": []
  },
  {
   "cell_type": "code",
   "execution_count": null,
   "id": "64d2520b-e157-4888-a46a-4b0f25e23d76",
   "metadata": {},
   "outputs": [],
   "source": []
  },
  {
   "cell_type": "code",
   "execution_count": 18,
   "id": "9e988ee3-fc0f-435f-a659-d74113985e89",
   "metadata": {
    "tags": []
   },
   "outputs": [
    {
     "data": {
      "text/plain": [
       "array(['https://www.zonaprop.com.ar/propiedades/departamento-en-venta-2-dorm.-1-bano-65-m-sup2--52950315.html',\n",
       "       'https://www.zonaprop.com.ar/propiedades/depto-de-2-ambientes-en-colegiales-dueno-direct-52953162.html',\n",
       "       'https://www.zonaprop.com.ar/propiedades/bozzano-cespedes-52937110.html',\n",
       "       'https://www.zonaprop.com.ar/propiedades/departamento-en-botanico-2-ambientes-balcon-terraza-52832520.html'],\n",
       "      dtype=object)"
      ]
     },
     "execution_count": 18,
     "metadata": {},
     "output_type": "execute_result"
    }
   ],
   "source": [
    "zonaprop_listings[zonaprop_listings.views_per_day > 30].listing_url.values"
   ]
  },
  {
   "cell_type": "code",
   "execution_count": 2,
   "id": "b120db34-998e-4def-b9ac-244e1ee31e91",
   "metadata": {},
   "outputs": [],
   "source": [
    "# sample data for zonaprop_listings, single entry\n",
    "zonaprop_listings = pd.DataFrame(\n",
    "    {'latitude': [-34.5835146], 'longitude': [-58.4537686]})"
   ]
  },
  {
   "cell_type": "markdown",
   "id": "17868c7c-1216-4ea5-8288-01476ba691dd",
   "metadata": {},
   "source": [
    "## `AirBnB` listings & reviews"
   ]
  },
  {
   "cell_type": "code",
   "execution_count": 3,
   "id": "0623ce2e-476d-494a-a3c0-7c9d661200e8",
   "metadata": {},
   "outputs": [],
   "source": [
    "from sklearn.neighbors import BallTree\n",
    "\n",
    "def find_within_radius(reference_df, target_df, radius_km=1):\n",
    "    # Convert radius from kilometers to radians for BallTree\n",
    "    radius_rad = radius_km / 6371  # Earth's radius in km\n",
    "\n",
    "    # Creating BallTree with target data\n",
    "    tree = BallTree(np.deg2rad(target_df[['latitude', 'longitude']].values), metric='haversine')\n",
    "\n",
    "    # Initialize DataFrame to store results\n",
    "    results_df = pd.DataFrame()\n",
    "\n",
    "    # Iterate over reference DataFrame\n",
    "    for index, row in reference_df.iterrows():\n",
    "        # Query BallTree\n",
    "        indices = tree.query_radius(np.deg2rad([[row['latitude'], row['longitude']]]), r=radius_rad)\n",
    "        # Extract relevant rows from target DataFrame\n",
    "        filtered_df = target_df.iloc[indices[0]]\n",
    "        results_df = pd.concat([results_df, filtered_df])\n",
    "\n",
    "    return results_df"
   ]
  },
  {
   "cell_type": "markdown",
   "id": "ce2d16b3-b349-42a3-98a2-31a7d782caa4",
   "metadata": {},
   "source": [
    "### Find closest listings"
   ]
  },
  {
   "cell_type": "code",
   "execution_count": 4,
   "id": "1cd17c44-3d7a-4121-815e-ac577fa89fe7",
   "metadata": {},
   "outputs": [],
   "source": [
    "airbnb_listings = pd.read_csv('processed/airbnb_listings.csv')"
   ]
  },
  {
   "cell_type": "code",
   "execution_count": 5,
   "id": "26763ce0-cc82-4b9e-9473-c40ab8702249",
   "metadata": {},
   "outputs": [
    {
     "data": {
      "text/html": [
       "<div>\n",
       "<style scoped>\n",
       "    .dataframe tbody tr th:only-of-type {\n",
       "        vertical-align: middle;\n",
       "    }\n",
       "\n",
       "    .dataframe tbody tr th {\n",
       "        vertical-align: top;\n",
       "    }\n",
       "\n",
       "    .dataframe thead th {\n",
       "        text-align: right;\n",
       "    }\n",
       "</style>\n",
       "<table border=\"1\" class=\"dataframe\">\n",
       "  <thead>\n",
       "    <tr style=\"text-align: right;\">\n",
       "      <th></th>\n",
       "      <th>id</th>\n",
       "      <th>listing_url</th>\n",
       "      <th>last_scraped</th>\n",
       "      <th>neighbourhood_cleansed</th>\n",
       "      <th>latitude</th>\n",
       "      <th>longitude</th>\n",
       "      <th>room_type</th>\n",
       "      <th>beds</th>\n",
       "      <th>price</th>\n",
       "      <th>number_of_reviews_l30d</th>\n",
       "      <th>review_scores_rating</th>\n",
       "      <th>review_scores_location</th>\n",
       "      <th>review_scores_value</th>\n",
       "      <th>estimated_nights_booked_l30d</th>\n",
       "      <th>bathrooms</th>\n",
       "      <th>estimated_price_per_night_in_USD</th>\n",
       "    </tr>\n",
       "  </thead>\n",
       "  <tbody>\n",
       "    <tr>\n",
       "      <th>1035</th>\n",
       "      <td>3140077</td>\n",
       "      <td>https://www.airbnb.com/rooms/3140077</td>\n",
       "      <td>2023-12-27</td>\n",
       "      <td>Chacarita</td>\n",
       "      <td>-34.58347</td>\n",
       "      <td>-58.45243</td>\n",
       "      <td>Entire home/apt</td>\n",
       "      <td>3.0</td>\n",
       "      <td>43731.0</td>\n",
       "      <td>1</td>\n",
       "      <td>5.00</td>\n",
       "      <td>4.72</td>\n",
       "      <td>4.83</td>\n",
       "      <td>low</td>\n",
       "      <td>1.5</td>\n",
       "      <td>55.0</td>\n",
       "    </tr>\n",
       "    <tr>\n",
       "      <th>8659</th>\n",
       "      <td>40677601</td>\n",
       "      <td>https://www.airbnb.com/rooms/40677601</td>\n",
       "      <td>2023-12-27</td>\n",
       "      <td>Chacarita</td>\n",
       "      <td>-34.58407</td>\n",
       "      <td>-58.45270</td>\n",
       "      <td>Entire home/apt</td>\n",
       "      <td>1.0</td>\n",
       "      <td>18367.0</td>\n",
       "      <td>1</td>\n",
       "      <td>4.62</td>\n",
       "      <td>4.67</td>\n",
       "      <td>4.43</td>\n",
       "      <td>low</td>\n",
       "      <td>1.0</td>\n",
       "      <td>23.0</td>\n",
       "    </tr>\n",
       "    <tr>\n",
       "      <th>6298</th>\n",
       "      <td>32665979</td>\n",
       "      <td>https://www.airbnb.com/rooms/32665979</td>\n",
       "      <td>2023-12-29</td>\n",
       "      <td>Chacarita</td>\n",
       "      <td>-34.58369</td>\n",
       "      <td>-58.45257</td>\n",
       "      <td>Entire home/apt</td>\n",
       "      <td>1.0</td>\n",
       "      <td>NaN</td>\n",
       "      <td>0</td>\n",
       "      <td>4.77</td>\n",
       "      <td>4.82</td>\n",
       "      <td>4.86</td>\n",
       "      <td>low</td>\n",
       "      <td>1.5</td>\n",
       "      <td>NaN</td>\n",
       "    </tr>\n",
       "    <tr>\n",
       "      <th>13822</th>\n",
       "      <td>660221314715899969</td>\n",
       "      <td>https://www.airbnb.com/rooms/660221314715899969</td>\n",
       "      <td>2023-12-27</td>\n",
       "      <td>Chacarita</td>\n",
       "      <td>-34.58368</td>\n",
       "      <td>-58.45293</td>\n",
       "      <td>Entire home/apt</td>\n",
       "      <td>1.0</td>\n",
       "      <td>27550.0</td>\n",
       "      <td>1</td>\n",
       "      <td>4.89</td>\n",
       "      <td>5.00</td>\n",
       "      <td>4.78</td>\n",
       "      <td>low</td>\n",
       "      <td>1.0</td>\n",
       "      <td>35.0</td>\n",
       "    </tr>\n",
       "    <tr>\n",
       "      <th>6187</th>\n",
       "      <td>32378359</td>\n",
       "      <td>https://www.airbnb.com/rooms/32378359</td>\n",
       "      <td>2023-12-27</td>\n",
       "      <td>Chacarita</td>\n",
       "      <td>-34.58556</td>\n",
       "      <td>-58.45258</td>\n",
       "      <td>Entire home/apt</td>\n",
       "      <td>1.0</td>\n",
       "      <td>23300.0</td>\n",
       "      <td>0</td>\n",
       "      <td>5.00</td>\n",
       "      <td>5.00</td>\n",
       "      <td>5.00</td>\n",
       "      <td>low</td>\n",
       "      <td>1.0</td>\n",
       "      <td>29.0</td>\n",
       "    </tr>\n",
       "  </tbody>\n",
       "</table>\n",
       "</div>"
      ],
      "text/plain": [
       "                       id                                      listing_url  \\\n",
       "1035              3140077             https://www.airbnb.com/rooms/3140077   \n",
       "8659             40677601            https://www.airbnb.com/rooms/40677601   \n",
       "6298             32665979            https://www.airbnb.com/rooms/32665979   \n",
       "13822  660221314715899969  https://www.airbnb.com/rooms/660221314715899969   \n",
       "6187             32378359            https://www.airbnb.com/rooms/32378359   \n",
       "\n",
       "      last_scraped neighbourhood_cleansed  latitude  longitude  \\\n",
       "1035    2023-12-27              Chacarita -34.58347  -58.45243   \n",
       "8659    2023-12-27              Chacarita -34.58407  -58.45270   \n",
       "6298    2023-12-29              Chacarita -34.58369  -58.45257   \n",
       "13822   2023-12-27              Chacarita -34.58368  -58.45293   \n",
       "6187    2023-12-27              Chacarita -34.58556  -58.45258   \n",
       "\n",
       "             room_type  beds    price  number_of_reviews_l30d  \\\n",
       "1035   Entire home/apt   3.0  43731.0                       1   \n",
       "8659   Entire home/apt   1.0  18367.0                       1   \n",
       "6298   Entire home/apt   1.0      NaN                       0   \n",
       "13822  Entire home/apt   1.0  27550.0                       1   \n",
       "6187   Entire home/apt   1.0  23300.0                       0   \n",
       "\n",
       "       review_scores_rating  review_scores_location  review_scores_value  \\\n",
       "1035                   5.00                    4.72                 4.83   \n",
       "8659                   4.62                    4.67                 4.43   \n",
       "6298                   4.77                    4.82                 4.86   \n",
       "13822                  4.89                    5.00                 4.78   \n",
       "6187                   5.00                    5.00                 5.00   \n",
       "\n",
       "      estimated_nights_booked_l30d  bathrooms  \\\n",
       "1035                           low        1.5   \n",
       "8659                           low        1.0   \n",
       "6298                           low        1.5   \n",
       "13822                          low        1.0   \n",
       "6187                           low        1.0   \n",
       "\n",
       "       estimated_price_per_night_in_USD  \n",
       "1035                               55.0  \n",
       "8659                               23.0  \n",
       "6298                                NaN  \n",
       "13822                              35.0  \n",
       "6187                               29.0  "
      ]
     },
     "execution_count": 5,
     "metadata": {},
     "output_type": "execute_result"
    }
   ],
   "source": [
    "# sample usage\n",
    "closest_listings = find_within_radius(\n",
    "    zonaprop_listings, \n",
    "    airbnb_listings,\n",
    "    radius_km=0.3,\n",
    ")\n",
    "closest_listings.head()"
   ]
  },
  {
   "cell_type": "code",
   "execution_count": 6,
   "id": "d6e6bef5-28e9-48e3-962e-6bd7ad29cade",
   "metadata": {},
   "outputs": [],
   "source": [
    "# filtering out NaN values for relevant columns\n",
    "filtered_df = closest_listings.dropna(subset=['estimated_price_per_night_in_USD', 'review_scores_rating', \n",
    "                                              'review_scores_location', 'review_scores_value', 'room_type'])\n",
    "\n",
    "# average estimated price per night in USD, considering room type\n",
    "average_price_entire_home = filtered_df[filtered_df['room_type'] == 'Entire home/apt']['estimated_price_per_night_in_USD'].mean()\n",
    "average_price_private_room = filtered_df[filtered_df['room_type'] == 'Private room']['estimated_price_per_night_in_USD'].mean()\n",
    "\n",
    "# count of estimated nights booked in the last 30 days by category\n",
    "booking_counts = filtered_df['estimated_nights_booked_l30d'].value_counts()\n",
    "\n",
    "# average review scores\n",
    "average_review_score_rating = filtered_df['review_scores_rating'].mean()\n",
    "average_review_score_location = filtered_df['review_scores_location'].mean()\n",
    "average_review_score_value = filtered_df['review_scores_value'].mean()\n",
    "\n",
    "# generate markdown summary\n",
    "markdown_summary = f\"\"\"\n",
    "### Summary of Airbnb Listings Near Zonaprop Location\n",
    "\n",
    "- **Average Estimated Price Per Night in USD**:\n",
    "    - Entire home/apt: {average_price_entire_home:.2f} USD\n",
    "    - Private room: {average_price_private_room:.2f} USD (if applicable)\n",
    "\n",
    "- **Booking Likelihood (Last 30 Days)**:\n",
    "    - Low: {booking_counts.get('low', 0)} listings\n",
    "    - Medium: {booking_counts.get('medium', 0)} listings\n",
    "    - High: {booking_counts.get('high', 0)} listings\n",
    "    - The data suggests that an apartment in this neighbourhood is {'more likely' if (booking_counts.get('high', 0) > booking_counts.get('low', 0)) and (booking_counts.get('high', 0) > booking_counts.get('medium', 0)) else 'less likely'} to get rented.\n",
    "\n",
    "- **Average Review Scores**:\n",
    "    - Overall Rating: {average_review_score_rating:.2f}/5\n",
    "    - Location Rating: {average_review_score_location:.2f}/5\n",
    "    - Value Rating: {average_review_score_value:.2f}/5\n",
    "\"\"\""
   ]
  },
  {
   "cell_type": "code",
   "execution_count": 7,
   "id": "4983f3b8-37d2-4dee-a988-2a8f3c0fa4aa",
   "metadata": {
    "tags": []
   },
   "outputs": [
    {
     "name": "stdout",
     "output_type": "stream",
     "text": [
      "\n",
      "### Summary of Airbnb Listings Near Zonaprop Location\n",
      "\n",
      "- **Average Estimated Price Per Night in USD**:\n",
      "    - Entire home/apt: 41.62 USD\n",
      "    - Private room: 18.29 USD (if applicable)\n",
      "\n",
      "- **Booking Likelihood (Last 30 Days)**:\n",
      "    - Low: 48 listings\n",
      "    - Medium: 6 listings\n",
      "    - High: 8 listings\n",
      "    - The data suggests that an apartment in this neighbourhood is less likely to get rented.\n",
      "\n",
      "- **Average Review Scores**:\n",
      "    - Overall Rating: 4.84/5\n",
      "    - Location Rating: 4.83/5\n",
      "    - Value Rating: 4.79/5\n",
      "\n"
     ]
    }
   ],
   "source": [
    "print(markdown_summary)"
   ]
  },
  {
   "cell_type": "code",
   "execution_count": null,
   "id": "b54cda9f-345c-44c5-a3ed-3e87b9cdb7be",
   "metadata": {},
   "outputs": [],
   "source": []
  }
 ],
 "metadata": {
  "kernelspec": {
   "display_name": "machinelearnear-zonaprop:Python",
   "language": "python",
   "name": "conda-env-machinelearnear-zonaprop-py"
  },
  "language_info": {
   "codemirror_mode": {
    "name": "ipython",
    "version": 3
   },
   "file_extension": ".py",
   "mimetype": "text/x-python",
   "name": "python",
   "nbconvert_exporter": "python",
   "pygments_lexer": "ipython3",
   "version": "3.9.18"
  }
 },
 "nbformat": 4,
 "nbformat_minor": 5
}

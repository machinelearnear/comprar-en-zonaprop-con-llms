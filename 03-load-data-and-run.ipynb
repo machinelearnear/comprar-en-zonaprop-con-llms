{
 "cells": [
  {
   "cell_type": "markdown",
   "id": "35246e61-9175-4d2d-ba78-ec51058446c0",
   "metadata": {},
   "source": [
    "# Using LLMs to analyse `Zonaprop` listings\n",
    "- https://www.machinelearnear.com/\n",
    "- https://www.youtube.com/@machinelearnear\n",
    "- https://www.youtube.com/watch?v=DuujwXarVbY&ab_channel=SantiagoMagnin"
   ]
  },
  {
   "cell_type": "code",
   "execution_count": 5,
   "id": "f4403c2e-8013-433d-a3c4-3d335d058cca",
   "metadata": {
    "tags": []
   },
   "outputs": [],
   "source": [
    "import os\n",
    "import pandas as pd\n",
    "\n",
    "def abrir_zonaprop_csv(fname, processed_folder = './processed'):\n",
    "    # listamos las subcarpetas en la carpeta\n",
    "    subfolders = [f.path for f in os.scandir(processed_folder) if f.is_dir()]\n",
    "    \n",
    "    # si no hay subcarpetas, retornamos\n",
    "    if not subfolders:\n",
    "        print(f\"No hay subcarpetas en {processed_folder}.\")\n",
    "        return None\n",
    "\n",
    "    # imprimimos las subcarpetas para que el usuario elija una\n",
    "    print(\"Subcarpetas disponibles:\")\n",
    "    for idx, folder in enumerate(subfolders):\n",
    "        print(f\"{idx + 1}. {folder}\")\n",
    "\n",
    "    # pedimos al usuario que elija una subcarpeta\n",
    "    choice = int(input(\"\\nSeleccioná el número de la subcarpeta: \"))\n",
    "    selected_folder = subfolders[choice - 1]\n",
    "\n",
    "    # construimos la ruta al archivo csv\n",
    "    csv_file = os.path.join(selected_folder, fname)\n",
    "\n",
    "    # verificamos si el archivo existe\n",
    "    if not os.path.exists(csv_file):\n",
    "        print(f\"No se encontró el archivo '{csv_file}'.\")\n",
    "        return None\n",
    "\n",
    "    # leemos y retornamos el dataframe\n",
    "    return pd.read_csv(csv_file)"
   ]
  },
  {
   "cell_type": "code",
   "execution_count": 6,
   "id": "4b8b304d-e222-4542-8395-f700accd862d",
   "metadata": {
    "tags": []
   },
   "outputs": [
    {
     "name": "stdout",
     "output_type": "stream",
     "text": [
      "Subcarpetas disponibles:\n",
      "1. ./processed/inmuebles-venta-palermo-colegiales-villa-crespo-chacarita-con-balcon-y-disposicion-frente-mas-30-m2-cubiertos-50000-130000-dolar\n"
     ]
    },
    {
     "name": "stdin",
     "output_type": "stream",
     "text": [
      "\n",
      "Seleccioná el número de la subcarpeta:  1\n"
     ]
    },
    {
     "data": {
      "text/html": [
       "<div>\n",
       "<style scoped>\n",
       "    .dataframe tbody tr th:only-of-type {\n",
       "        vertical-align: middle;\n",
       "    }\n",
       "\n",
       "    .dataframe tbody tr th {\n",
       "        vertical-align: top;\n",
       "    }\n",
       "\n",
       "    .dataframe thead th {\n",
       "        text-align: right;\n",
       "    }\n",
       "</style>\n",
       "<table border=\"1\" class=\"dataframe\">\n",
       "  <thead>\n",
       "    <tr style=\"text-align: right;\">\n",
       "      <th></th>\n",
       "      <th>listing_url</th>\n",
       "      <th>asking_price_in_usd</th>\n",
       "      <th>expensas_in_ars</th>\n",
       "      <th>latitude</th>\n",
       "      <th>longitude</th>\n",
       "      <th>google_maps</th>\n",
       "      <th>photos</th>\n",
       "      <th>whatsapp</th>\n",
       "      <th>published_on</th>\n",
       "      <th>disposición</th>\n",
       "      <th>...</th>\n",
       "      <th>categoríadeledificio</th>\n",
       "      <th>estadodeledificio</th>\n",
       "      <th>etapa</th>\n",
       "      <th>tipoedificio</th>\n",
       "      <th>permitemenoresde12</th>\n",
       "      <th>cantidaddormitorios</th>\n",
       "      <th>user_views</th>\n",
       "      <th>days</th>\n",
       "      <th>views_per_day</th>\n",
       "      <th>usd_per_m2</th>\n",
       "    </tr>\n",
       "  </thead>\n",
       "  <tbody>\n",
       "    <tr>\n",
       "      <th>0</th>\n",
       "      <td>https://www.zonaprop.com.ar/propiedades/clasif...</td>\n",
       "      <td>118000</td>\n",
       "      <td>53000.0</td>\n",
       "      <td>-34.5822742</td>\n",
       "      <td>-58.4094659</td>\n",
       "      <td>https://maps.google.com/?q=-34.5822742,-58.409...</td>\n",
       "      <td>['https://imgar.zonapropcdn.com/avisos/1/00/52...</td>\n",
       "      <td>5.491141e+12</td>\n",
       "      <td>29-01-2024</td>\n",
       "      <td>Frente</td>\n",
       "      <td>...</td>\n",
       "      <td>NaN</td>\n",
       "      <td>NaN</td>\n",
       "      <td>NaN</td>\n",
       "      <td>NaN</td>\n",
       "      <td>NaN</td>\n",
       "      <td>NaN</td>\n",
       "      <td>383</td>\n",
       "      <td>122</td>\n",
       "      <td>12</td>\n",
       "      <td>2360.0</td>\n",
       "    </tr>\n",
       "    <tr>\n",
       "      <th>1</th>\n",
       "      <td>https://www.zonaprop.com.ar/propiedades/clasif...</td>\n",
       "      <td>95000</td>\n",
       "      <td>28000.0</td>\n",
       "      <td>-34.5952278</td>\n",
       "      <td>-58.4455391</td>\n",
       "      <td>https://maps.google.com/?q=-34.5952278,-58.445...</td>\n",
       "      <td>['https://imgar.zonapropcdn.com/avisos/1/00/52...</td>\n",
       "      <td>NaN</td>\n",
       "      <td>29-01-2024</td>\n",
       "      <td>Frente</td>\n",
       "      <td>...</td>\n",
       "      <td>NaN</td>\n",
       "      <td>NaN</td>\n",
       "      <td>NaN</td>\n",
       "      <td>NaN</td>\n",
       "      <td>NaN</td>\n",
       "      <td>NaN</td>\n",
       "      <td>214</td>\n",
       "      <td>119</td>\n",
       "      <td>7</td>\n",
       "      <td>1338.0</td>\n",
       "    </tr>\n",
       "    <tr>\n",
       "      <th>2</th>\n",
       "      <td>https://www.zonaprop.com.ar/propiedades/clasif...</td>\n",
       "      <td>119500</td>\n",
       "      <td>60000.0</td>\n",
       "      <td>-34.5841554959184</td>\n",
       "      <td>-58.4247836714286</td>\n",
       "      <td>https://maps.google.com/?q=-34.5841554959184,-...</td>\n",
       "      <td>['https://imgar.zonapropcdn.com/avisos/1/00/51...</td>\n",
       "      <td>5.491163e+12</td>\n",
       "      <td>08-01-2024</td>\n",
       "      <td>Frente</td>\n",
       "      <td>...</td>\n",
       "      <td>NaN</td>\n",
       "      <td>NaN</td>\n",
       "      <td>NaN</td>\n",
       "      <td>NaN</td>\n",
       "      <td>NaN</td>\n",
       "      <td>NaN</td>\n",
       "      <td>232</td>\n",
       "      <td>282</td>\n",
       "      <td>7</td>\n",
       "      <td>1991.0</td>\n",
       "    </tr>\n",
       "    <tr>\n",
       "      <th>3</th>\n",
       "      <td>https://www.zonaprop.com.ar/propiedades/empren...</td>\n",
       "      <td>94000</td>\n",
       "      <td>NaN</td>\n",
       "      <td>-34.5682215</td>\n",
       "      <td>-58.4371057</td>\n",
       "      <td>https://maps.google.com/?q=-34.5682215,-58.437...</td>\n",
       "      <td>['https://imgar.zonapropcdn.com/avisos/1/00/52...</td>\n",
       "      <td>5.491165e+12</td>\n",
       "      <td>15-01-2024</td>\n",
       "      <td>NaN</td>\n",
       "      <td>...</td>\n",
       "      <td>NaN</td>\n",
       "      <td>NaN</td>\n",
       "      <td>NaN</td>\n",
       "      <td>NaN</td>\n",
       "      <td>NaN</td>\n",
       "      <td>NaN</td>\n",
       "      <td>1744</td>\n",
       "      <td>14</td>\n",
       "      <td>124</td>\n",
       "      <td>0.0</td>\n",
       "    </tr>\n",
       "    <tr>\n",
       "      <th>4</th>\n",
       "      <td>https://www.zonaprop.com.ar/propiedades/clasif...</td>\n",
       "      <td>109000</td>\n",
       "      <td>16300.0</td>\n",
       "      <td>-34.5966816877551</td>\n",
       "      <td>-58.4405421469388</td>\n",
       "      <td>https://maps.google.com/?q=-34.5966816877551,-...</td>\n",
       "      <td>['https://imgar.zonapropcdn.com/avisos/1/00/51...</td>\n",
       "      <td>5.491163e+12</td>\n",
       "      <td>25-01-2024</td>\n",
       "      <td>Frente</td>\n",
       "      <td>...</td>\n",
       "      <td>NaN</td>\n",
       "      <td>NaN</td>\n",
       "      <td>NaN</td>\n",
       "      <td>NaN</td>\n",
       "      <td>NaN</td>\n",
       "      <td>NaN</td>\n",
       "      <td>443</td>\n",
       "      <td>280</td>\n",
       "      <td>14</td>\n",
       "      <td>1252.0</td>\n",
       "    </tr>\n",
       "  </tbody>\n",
       "</table>\n",
       "<p>5 rows × 59 columns</p>\n",
       "</div>"
      ],
      "text/plain": [
       "                                         listing_url  asking_price_in_usd  \\\n",
       "0  https://www.zonaprop.com.ar/propiedades/clasif...               118000   \n",
       "1  https://www.zonaprop.com.ar/propiedades/clasif...                95000   \n",
       "2  https://www.zonaprop.com.ar/propiedades/clasif...               119500   \n",
       "3  https://www.zonaprop.com.ar/propiedades/empren...                94000   \n",
       "4  https://www.zonaprop.com.ar/propiedades/clasif...               109000   \n",
       "\n",
       "   expensas_in_ars           latitude          longitude  \\\n",
       "0          53000.0        -34.5822742        -58.4094659   \n",
       "1          28000.0        -34.5952278        -58.4455391   \n",
       "2          60000.0  -34.5841554959184  -58.4247836714286   \n",
       "3              NaN        -34.5682215        -58.4371057   \n",
       "4          16300.0  -34.5966816877551  -58.4405421469388   \n",
       "\n",
       "                                         google_maps  \\\n",
       "0  https://maps.google.com/?q=-34.5822742,-58.409...   \n",
       "1  https://maps.google.com/?q=-34.5952278,-58.445...   \n",
       "2  https://maps.google.com/?q=-34.5841554959184,-...   \n",
       "3  https://maps.google.com/?q=-34.5682215,-58.437...   \n",
       "4  https://maps.google.com/?q=-34.5966816877551,-...   \n",
       "\n",
       "                                              photos      whatsapp  \\\n",
       "0  ['https://imgar.zonapropcdn.com/avisos/1/00/52...  5.491141e+12   \n",
       "1  ['https://imgar.zonapropcdn.com/avisos/1/00/52...           NaN   \n",
       "2  ['https://imgar.zonapropcdn.com/avisos/1/00/51...  5.491163e+12   \n",
       "3  ['https://imgar.zonapropcdn.com/avisos/1/00/52...  5.491165e+12   \n",
       "4  ['https://imgar.zonapropcdn.com/avisos/1/00/51...  5.491163e+12   \n",
       "\n",
       "  published_on disposición  ... categoríadeledificio estadodeledificio  etapa  \\\n",
       "0   29-01-2024      Frente  ...                  NaN               NaN    NaN   \n",
       "1   29-01-2024      Frente  ...                  NaN               NaN    NaN   \n",
       "2   08-01-2024      Frente  ...                  NaN               NaN    NaN   \n",
       "3   15-01-2024         NaN  ...                  NaN               NaN    NaN   \n",
       "4   25-01-2024      Frente  ...                  NaN               NaN    NaN   \n",
       "\n",
       "   tipoedificio  permitemenoresde12  cantidaddormitorios  user_views days  \\\n",
       "0           NaN                 NaN                  NaN         383  122   \n",
       "1           NaN                 NaN                  NaN         214  119   \n",
       "2           NaN                 NaN                  NaN         232  282   \n",
       "3           NaN                 NaN                  NaN        1744   14   \n",
       "4           NaN                 NaN                  NaN         443  280   \n",
       "\n",
       "   views_per_day usd_per_m2  \n",
       "0             12     2360.0  \n",
       "1              7     1338.0  \n",
       "2              7     1991.0  \n",
       "3            124        0.0  \n",
       "4             14     1252.0  \n",
       "\n",
       "[5 rows x 59 columns]"
      ]
     },
     "execution_count": 6,
     "metadata": {},
     "output_type": "execute_result"
    }
   ],
   "source": [
    "# load data from local\n",
    "zonaprop_listings = abrir_zonaprop_csv('zonaprop_with_userviews.csv')\n",
    "zonaprop_listings.head()"
   ]
  },
  {
   "cell_type": "markdown",
   "id": "d3f76c0b-8a5f-4f79-a9f8-9527b66b8daf",
   "metadata": {},
   "source": [
    "## Como traemos la información de `Airbnb`?"
   ]
  },
  {
   "cell_type": "code",
   "execution_count": 10,
   "id": "e4e3e850-95bd-42c9-a33a-9a67fe1b6087",
   "metadata": {
    "tags": []
   },
   "outputs": [],
   "source": [
    "from sklearn.neighbors import BallTree\n",
    "\n",
    "def find_within_radius(reference_df, target_df, radius_km=1):\n",
    "    # Convert radius from kilometers to radians for BallTree\n",
    "    radius_rad = radius_km / 6371  # Earth's radius in km\n",
    "\n",
    "    # Creating BallTree with target data\n",
    "    tree = BallTree(np.deg2rad(target_df[['latitude', 'longitude']].values), metric='haversine')\n",
    "\n",
    "    # Initialize DataFrame to store results\n",
    "    results_df = pd.DataFrame()\n",
    "\n",
    "    # Iterate over reference DataFrame\n",
    "    for index, row in reference_df.iterrows():\n",
    "        # Query BallTree\n",
    "        indices = tree.query_radius(np.deg2rad([[row['latitude'], row['longitude']]]), r=radius_rad)\n",
    "        # Extract relevant rows from target DataFrame\n",
    "        filtered_df = target_df.iloc[indices[0]]\n",
    "        results_df = pd.concat([results_df, filtered_df])\n",
    "\n",
    "    return results_df"
   ]
  },
  {
   "cell_type": "code",
   "execution_count": 11,
   "id": "a271814b-ceab-47bc-9681-f00afd81b3b0",
   "metadata": {
    "tags": []
   },
   "outputs": [],
   "source": [
    "airbnb_listings = pd.read_csv('processed/airbnb_listings.csv')\n",
    "# airbnb_reviews = pd.read_csv('processed/airbnb_reviews.csv')"
   ]
  },
  {
   "cell_type": "markdown",
   "id": "90424124-bf4a-4b4a-b46b-8a4c2d7a57a1",
   "metadata": {
    "tags": []
   },
   "source": [
    "### Encontrar los listings mas cercanos"
   ]
  },
  {
   "cell_type": "code",
   "execution_count": 12,
   "id": "09268877-2faa-4741-abfe-d02e8326d9a1",
   "metadata": {
    "tags": []
   },
   "outputs": [],
   "source": [
    "def find_within_radius(row, airbnb_listings, radius_km):\n",
    "    radius_rad = radius_km / 6371\n",
    "    valid_listings = airbnb_listings.dropna(subset=['latitude', 'longitude'])\n",
    "    tree = BallTree(np.deg2rad(valid_listings[['latitude', 'longitude']].values), metric='haversine')\n",
    "    if pd.notnull(row['latitude']) and pd.notnull(row['longitude']):\n",
    "        indices = tree.query_radius(np.deg2rad([[row['latitude'], row['longitude']]]), r=radius_rad)\n",
    "        return valid_listings.iloc[indices[0]]\n",
    "    return pd.DataFrame()"
   ]
  },
  {
   "cell_type": "code",
   "execution_count": 22,
   "id": "0123ac2f-84d6-4eef-ba30-5c4ab87d23fe",
   "metadata": {
    "tags": []
   },
   "outputs": [],
   "source": [
    "from sklearn.neighbors import BallTree\n",
    "import numpy as np\n",
    "import pandas as pd\n",
    "\n",
    "def agregar_info_airbnb(listings, airbnb_listings, radius_km):\n",
    "    listings = listings.copy()\n",
    "    listings['latitude'] = pd.to_numeric(listings['latitude'], errors='coerce')\n",
    "    listings['longitude'] = pd.to_numeric(listings['longitude'], errors='coerce')\n",
    "\n",
    "    def find_within_radius(row, radius_km):\n",
    "        radius_rad = radius_km / 6371\n",
    "        valid_listings = airbnb_listings.dropna(subset=['latitude', 'longitude'])\n",
    "        tree = BallTree(np.deg2rad(valid_listings[['latitude', 'longitude']].values), metric='haversine')\n",
    "        if pd.notnull(row['latitude']) and pd.notnull(row['longitude']):\n",
    "            indices = tree.query_radius(np.deg2rad([[row['latitude'], row['longitude']]]), r=radius_rad)\n",
    "            return valid_listings.iloc[indices[0]]\n",
    "        return pd.DataFrame()\n",
    "\n",
    "    for index, row in listings.iterrows():\n",
    "        closest_listings = find_within_radius(row, radius_km)\n",
    "        if closest_listings.empty: continue\n",
    "        filtered = closest_listings.dropna(subset=['estimated_price_per_night_in_USD', 'review_scores_rating', \n",
    "                           'review_scores_location', 'review_scores_value', 'room_type', 'estimated_nights_booked_l30d'])\n",
    "\n",
    "        # calcular la probabilidad de alquiler\n",
    "        booking_counts = filtered['estimated_nights_booked_l30d'].value_counts()\n",
    "        probabilidad_alquiler = 'más probable' if (booking_counts.get('high', 0) > booking_counts.get('low', 0)\n",
    "                                                  ) or (booking_counts.get('high', 0) > booking_counts.get('medium', 0)) else 'menos probable'\n",
    "        listings.at[index, 'airbnb_probabilidad_alquiler'] = probabilidad_alquiler\n",
    "        \n",
    "        # otros numeros grosos\n",
    "        listings.at[index, 'airbnb_avg_price_entire_home'] = filtered[filtered['room_type'] == 'Entire home/apt']['estimated_price_per_night_in_USD'].mean()\n",
    "        listings.at[index, 'airbnb_avg_price_private_room'] = filtered[filtered['room_type'] == 'Private room']['estimated_price_per_night_in_USD'].mean()\n",
    "        listings.at[index, 'airbnb_avg_review_score_rating'] = filtered['review_scores_rating'].mean()\n",
    "        listings.at[index, 'airbnb_avg_review_score_location'] = filtered['review_scores_location'].mean()\n",
    "        listings.at[index, 'airbnb_avg_review_score_value'] = filtered['review_scores_value'].mean()\n",
    "\n",
    "    return listings"
   ]
  },
  {
   "cell_type": "markdown",
   "id": "cedc4407-7362-49e9-8442-976e341de3ad",
   "metadata": {},
   "source": [
    "#### Ejemplo"
   ]
  },
  {
   "cell_type": "code",
   "execution_count": 23,
   "id": "9d4ff600-39d1-443a-8bcb-b1f9d9406b3e",
   "metadata": {
    "tags": []
   },
   "outputs": [],
   "source": [
    "high_relevance_listings = zonaprop_listings[zonaprop_listings.views_per_day > 60].reset_index(drop=True)\n",
    "high_relevance_listings = high_relevance_listings.dropna(axis=1, how='all')"
   ]
  },
  {
   "cell_type": "code",
   "execution_count": 24,
   "id": "6e8d1716-ab4a-40d8-9dc4-2a90b20d96b4",
   "metadata": {
    "tags": []
   },
   "outputs": [],
   "source": [
    "# suponiendo que `high_relevance_listings` y `airbnb_listings` son tus DataFrames\n",
    "a = agregar_info_airbnb(high_relevance_listings, airbnb_listings, 0.3)"
   ]
  },
  {
   "cell_type": "code",
   "execution_count": 27,
   "id": "ec3d4639-d893-4161-9be9-ebe62d0a10fb",
   "metadata": {
    "tags": []
   },
   "outputs": [
    {
     "data": {
      "text/html": [
       "<div>\n",
       "<style scoped>\n",
       "    .dataframe tbody tr th:only-of-type {\n",
       "        vertical-align: middle;\n",
       "    }\n",
       "\n",
       "    .dataframe tbody tr th {\n",
       "        vertical-align: top;\n",
       "    }\n",
       "\n",
       "    .dataframe thead th {\n",
       "        text-align: right;\n",
       "    }\n",
       "</style>\n",
       "<table border=\"1\" class=\"dataframe\">\n",
       "  <thead>\n",
       "    <tr style=\"text-align: right;\">\n",
       "      <th></th>\n",
       "      <th>listing_url</th>\n",
       "      <th>asking_price_in_usd</th>\n",
       "      <th>expensas_in_ars</th>\n",
       "      <th>latitude</th>\n",
       "      <th>longitude</th>\n",
       "      <th>google_maps</th>\n",
       "      <th>photos</th>\n",
       "      <th>whatsapp</th>\n",
       "      <th>published_on</th>\n",
       "      <th>disposición</th>\n",
       "      <th>...</th>\n",
       "      <th>user_views</th>\n",
       "      <th>days</th>\n",
       "      <th>views_per_day</th>\n",
       "      <th>usd_per_m2</th>\n",
       "      <th>airbnb_probabilidad_alquiler</th>\n",
       "      <th>airbnb_avg_price_entire_home</th>\n",
       "      <th>airbnb_avg_price_private_room</th>\n",
       "      <th>airbnb_avg_review_score_rating</th>\n",
       "      <th>airbnb_avg_review_score_location</th>\n",
       "      <th>airbnb_avg_review_score_value</th>\n",
       "    </tr>\n",
       "  </thead>\n",
       "  <tbody>\n",
       "    <tr>\n",
       "      <th>0</th>\n",
       "      <td>https://www.zonaprop.com.ar/propiedades/empren...</td>\n",
       "      <td>94000</td>\n",
       "      <td>NaN</td>\n",
       "      <td>-34.568221</td>\n",
       "      <td>-58.437106</td>\n",
       "      <td>https://maps.google.com/?q=-34.5682215,-58.437...</td>\n",
       "      <td>['https://imgar.zonapropcdn.com/avisos/1/00/52...</td>\n",
       "      <td>5.491165e+12</td>\n",
       "      <td>15-01-2024</td>\n",
       "      <td>NaN</td>\n",
       "      <td>...</td>\n",
       "      <td>1744</td>\n",
       "      <td>14</td>\n",
       "      <td>124</td>\n",
       "      <td>0.0</td>\n",
       "      <td>menos probable</td>\n",
       "      <td>64.757353</td>\n",
       "      <td>53.000000</td>\n",
       "      <td>4.871844</td>\n",
       "      <td>4.948156</td>\n",
       "      <td>4.831489</td>\n",
       "    </tr>\n",
       "    <tr>\n",
       "      <th>1</th>\n",
       "      <td>https://www.zonaprop.com.ar/propiedades/empren...</td>\n",
       "      <td>77000</td>\n",
       "      <td>NaN</td>\n",
       "      <td>-34.575123</td>\n",
       "      <td>-58.438449</td>\n",
       "      <td>https://maps.google.com/?q=-34.5751231,-58.438...</td>\n",
       "      <td>['https://imgar.zonapropcdn.com/avisos/1/00/52...</td>\n",
       "      <td>5.491127e+12</td>\n",
       "      <td>24-01-2024</td>\n",
       "      <td>NaN</td>\n",
       "      <td>...</td>\n",
       "      <td>1543</td>\n",
       "      <td>5</td>\n",
       "      <td>308</td>\n",
       "      <td>0.0</td>\n",
       "      <td>más probable</td>\n",
       "      <td>65.304348</td>\n",
       "      <td>82.857143</td>\n",
       "      <td>4.811051</td>\n",
       "      <td>4.866733</td>\n",
       "      <td>4.743750</td>\n",
       "    </tr>\n",
       "    <tr>\n",
       "      <th>2</th>\n",
       "      <td>https://www.zonaprop.com.ar/propiedades/clasif...</td>\n",
       "      <td>120000</td>\n",
       "      <td>27000.0</td>\n",
       "      <td>-34.576361</td>\n",
       "      <td>-58.468243</td>\n",
       "      <td>https://maps.google.com/?q=-34.5763612,-58.468...</td>\n",
       "      <td>['https://imgar.zonapropcdn.com/avisos/1/00/50...</td>\n",
       "      <td>5.491164e+12</td>\n",
       "      <td>29-01-2024</td>\n",
       "      <td>Frente</td>\n",
       "      <td>...</td>\n",
       "      <td>124</td>\n",
       "      <td>0</td>\n",
       "      <td>124</td>\n",
       "      <td>1935.0</td>\n",
       "      <td>menos probable</td>\n",
       "      <td>30.571429</td>\n",
       "      <td>10.000000</td>\n",
       "      <td>4.438750</td>\n",
       "      <td>4.526250</td>\n",
       "      <td>4.371250</td>\n",
       "    </tr>\n",
       "    <tr>\n",
       "      <th>3</th>\n",
       "      <td>https://www.zonaprop.com.ar/propiedades/clasif...</td>\n",
       "      <td>92000</td>\n",
       "      <td>0.0</td>\n",
       "      <td>-34.586470</td>\n",
       "      <td>-58.440049</td>\n",
       "      <td>https://maps.google.com/?q=-34.5864703,-58.440...</td>\n",
       "      <td>['https://imgar.zonapropcdn.com/avisos/1/00/47...</td>\n",
       "      <td>5.491156e+12</td>\n",
       "      <td>29-01-2024</td>\n",
       "      <td>Frente</td>\n",
       "      <td>...</td>\n",
       "      <td>82</td>\n",
       "      <td>0</td>\n",
       "      <td>82</td>\n",
       "      <td>2000.0</td>\n",
       "      <td>más probable</td>\n",
       "      <td>62.440111</td>\n",
       "      <td>19.000000</td>\n",
       "      <td>4.751162</td>\n",
       "      <td>4.760865</td>\n",
       "      <td>4.694865</td>\n",
       "    </tr>\n",
       "    <tr>\n",
       "      <th>4</th>\n",
       "      <td>https://www.zonaprop.com.ar/propiedades/clasif...</td>\n",
       "      <td>110000</td>\n",
       "      <td>88515.0</td>\n",
       "      <td>-34.582389</td>\n",
       "      <td>-58.422672</td>\n",
       "      <td>https://maps.google.com/?q=-34.5823885663,-58....</td>\n",
       "      <td>['https://imgar.zonapropcdn.com/avisos/1/00/49...</td>\n",
       "      <td>5.491144e+12</td>\n",
       "      <td>29-01-2024</td>\n",
       "      <td>Frente</td>\n",
       "      <td>...</td>\n",
       "      <td>106</td>\n",
       "      <td>0</td>\n",
       "      <td>106</td>\n",
       "      <td>2820.0</td>\n",
       "      <td>más probable</td>\n",
       "      <td>91.587242</td>\n",
       "      <td>45.652174</td>\n",
       "      <td>4.788961</td>\n",
       "      <td>4.924731</td>\n",
       "      <td>4.726380</td>\n",
       "    </tr>\n",
       "  </tbody>\n",
       "</table>\n",
       "<p>5 rows × 40 columns</p>\n",
       "</div>"
      ],
      "text/plain": [
       "                                         listing_url  asking_price_in_usd  \\\n",
       "0  https://www.zonaprop.com.ar/propiedades/empren...                94000   \n",
       "1  https://www.zonaprop.com.ar/propiedades/empren...                77000   \n",
       "2  https://www.zonaprop.com.ar/propiedades/clasif...               120000   \n",
       "3  https://www.zonaprop.com.ar/propiedades/clasif...                92000   \n",
       "4  https://www.zonaprop.com.ar/propiedades/clasif...               110000   \n",
       "\n",
       "   expensas_in_ars   latitude  longitude  \\\n",
       "0              NaN -34.568221 -58.437106   \n",
       "1              NaN -34.575123 -58.438449   \n",
       "2          27000.0 -34.576361 -58.468243   \n",
       "3              0.0 -34.586470 -58.440049   \n",
       "4          88515.0 -34.582389 -58.422672   \n",
       "\n",
       "                                         google_maps  \\\n",
       "0  https://maps.google.com/?q=-34.5682215,-58.437...   \n",
       "1  https://maps.google.com/?q=-34.5751231,-58.438...   \n",
       "2  https://maps.google.com/?q=-34.5763612,-58.468...   \n",
       "3  https://maps.google.com/?q=-34.5864703,-58.440...   \n",
       "4  https://maps.google.com/?q=-34.5823885663,-58....   \n",
       "\n",
       "                                              photos      whatsapp  \\\n",
       "0  ['https://imgar.zonapropcdn.com/avisos/1/00/52...  5.491165e+12   \n",
       "1  ['https://imgar.zonapropcdn.com/avisos/1/00/52...  5.491127e+12   \n",
       "2  ['https://imgar.zonapropcdn.com/avisos/1/00/50...  5.491164e+12   \n",
       "3  ['https://imgar.zonapropcdn.com/avisos/1/00/47...  5.491156e+12   \n",
       "4  ['https://imgar.zonapropcdn.com/avisos/1/00/49...  5.491144e+12   \n",
       "\n",
       "  published_on disposición  ... user_views days  views_per_day  usd_per_m2  \\\n",
       "0   15-01-2024         NaN  ...       1744   14            124         0.0   \n",
       "1   24-01-2024         NaN  ...       1543    5            308         0.0   \n",
       "2   29-01-2024      Frente  ...        124    0            124      1935.0   \n",
       "3   29-01-2024      Frente  ...         82    0             82      2000.0   \n",
       "4   29-01-2024      Frente  ...        106    0            106      2820.0   \n",
       "\n",
       "   airbnb_probabilidad_alquiler  airbnb_avg_price_entire_home  \\\n",
       "0                menos probable                     64.757353   \n",
       "1                  más probable                     65.304348   \n",
       "2                menos probable                     30.571429   \n",
       "3                  más probable                     62.440111   \n",
       "4                  más probable                     91.587242   \n",
       "\n",
       "   airbnb_avg_price_private_room airbnb_avg_review_score_rating  \\\n",
       "0                      53.000000                       4.871844   \n",
       "1                      82.857143                       4.811051   \n",
       "2                      10.000000                       4.438750   \n",
       "3                      19.000000                       4.751162   \n",
       "4                      45.652174                       4.788961   \n",
       "\n",
       "  airbnb_avg_review_score_location  airbnb_avg_review_score_value  \n",
       "0                         4.948156                       4.831489  \n",
       "1                         4.866733                       4.743750  \n",
       "2                         4.526250                       4.371250  \n",
       "3                         4.760865                       4.694865  \n",
       "4                         4.924731                       4.726380  \n",
       "\n",
       "[5 rows x 40 columns]"
      ]
     },
     "execution_count": 27,
     "metadata": {},
     "output_type": "execute_result"
    }
   ],
   "source": [
    "a.head()"
   ]
  },
  {
   "cell_type": "markdown",
   "id": "86965718-ee0f-4992-b021-60402471cba9",
   "metadata": {},
   "source": [
    "## Que criterio vamos a usar para filtrar las propiedades?\n",
    "Nos vamos a basar en esto que dice el groso de [Santiago Magnin](https://twitter.com/santivende) en este video [*\"GUÍA 2024 para COMPRADORES 💣 Webinar bomba 💣 ¿Cómo comprar con Javier Milei Presidente?\"*](https://www.youtube.com/watch?v=DuujwXarVbY&ab_channel=SantiagoMagnin).\n",
    "\n",
    "En resumen, para `Zonaprop`:\n",
    "- (1) ~60 visitas/dia, se reservan en la primera semana, negociación promedio del 2%\n",
    "- (2) ~30 visitas/dia, se reservan entre 8 y 30 dias, negociación promedio del 5%\n",
    "- (3) ~20 visitas/dia, se reservan entre 31 y 60 dias, negociación promedio del 7%\n",
    "- (4) ~10 visitas/dia, se reservan en más de 60 dias, negociación promedio del 8%"
   ]
  },
  {
   "cell_type": "code",
   "execution_count": 28,
   "id": "d28b9478-701d-4248-a5ac-d9c5993ceed9",
   "metadata": {
    "tags": []
   },
   "outputs": [],
   "source": [
    "import IPython.display as display\n",
    "from IPython.display import Markdown, HTML\n",
    "\n",
    "def mostrar_resumen_propiedad(row):\n",
    "    # crear el resumen en markdown\n",
    "    caracteristicas = '\\n'.join(f\"- {col}: {row[col]}\" for col in row.index if col not in ['photos', 'listing_url'] and 'airbnb_' not in col)\n",
    "    airbnb_info = '\\n'.join(f\"- {col}: {row[col]}\" for col in row.index if 'airbnb_' in col)\n",
    "\n",
    "    markdown_resumen = f\"\"\"\n",
    "------\n",
    "**PROPIEDAD{row.name}: [Link]({row['listing_url']})**\n",
    "**Characteristics:**\n",
    "{caracteristicas}\n",
    "\n",
    "**Airbnb:**\n",
    "{airbnb_info}\n",
    "\"\"\"\n",
    "\n",
    "    # mostrar el resumen en markdown\n",
    "    display.display(Markdown(markdown_resumen))\n",
    "\n",
    "    # agregar fotos en html con grilla\n",
    "    if row['photos']:\n",
    "        fotos = row['photos'][1:-1].replace(\"'\", \"\").split(', ')\n",
    "        fotos_html = '<div style=\"display: grid; grid-template-columns: repeat(3, 1fr); grid-gap: 5px;\">'\n",
    "        fotos_html += ''.join(f'<div style=\"width: 100%;\"><img src=\"{url.strip()}\" style=\"width: 100%; max-height: 200px; object-fit: cover;\" /></div>' for url in fotos[:6])\n",
    "        fotos_html += '</div>'\n",
    "        display.display(HTML(fotos_html))"
   ]
  },
  {
   "cell_type": "code",
   "execution_count": 41,
   "id": "c7f7b44c-0c2e-4bf4-9a5f-a802c2bc9d26",
   "metadata": {
    "tags": []
   },
   "outputs": [
    {
     "data": {
      "text/markdown": [
       "\n",
       "------\n",
       "**PROPERTY 10: [Link](https://www.zonaprop.com.ar/propiedades/clasificado/veclapin-monoambiente-en-palermo-hollywood-6-piso-al-frente-50571531.html)**\n",
       "**Characteristics:**\n",
       "- asking_price_in_usd: 108000\n",
       "- expensas_in_ars: 90000.0\n",
       "- latitude: -34.5805555\n",
       "- longitude: -58.4417977\n",
       "- google_maps: https://maps.google.com/?q=-34.5805555,-58.4417977\n",
       "- whatsapp: nan\n",
       "- published_on: 29-01-2024\n",
       "- disposición: Frente\n",
       "- luminoso: Muy luminoso\n",
       "- orientación: NE\n",
       "- superficietotal: 40.0\n",
       "- superficiecubierta: 35.0\n",
       "- ambientes: nan\n",
       "- dormitorio: nan\n",
       "- baño: 1.0\n",
       "- antigüedad: 12\n",
       "- cantidadplantas: 1\n",
       "- superficiesemicubiertam²: 5.0\n",
       "- dormitorios: nan\n",
       "- baños: nan\n",
       "- aptocrédito: Apto crédito\n",
       "- toilette: nan\n",
       "- ambiente: 1.0\n",
       "- departamentosporpiso: nan\n",
       "- cantidadpisosenedificio: nan\n",
       "- cochera: nan\n",
       "- coberturacochera: nan\n",
       "- cantidaddedepartamentos: nan\n",
       "- user_views: 126\n",
       "- days: 0\n",
       "- views_per_day: 126\n",
       "- usd_per_m2: 2700.0\n",
       "\n",
       "**Airbnb:**\n",
       "- airbnb_probabilidad_alquiler: más probable\n",
       "- airbnb_avg_price_entire_home: 85.49846153846154\n",
       "- airbnb_avg_price_private_room: 22.333333333333332\n",
       "- airbnb_avg_review_score_rating: 4.836310975609756\n",
       "- airbnb_avg_review_score_location: 4.901737804878048\n",
       "- airbnb_avg_review_score_value: 4.7594817073170725\n"
      ],
      "text/plain": [
       "<IPython.core.display.Markdown object>"
      ]
     },
     "metadata": {},
     "output_type": "display_data"
    },
    {
     "data": {
      "text/html": [
       "<div style=\"display: grid; grid-template-columns: repeat(3, 1fr); grid-gap: 5px;\"><div style=\"width: 100%;\"><img src=\"https://imgar.zonapropcdn.com/avisos/1/00/50/57/15/31/1200x1200/1837129758.jpg?isFirstImage=true\" style=\"width: 100%; max-height: 200px; object-fit: cover;\" /></div><div style=\"width: 100%;\"><img src=\"https://imgar.zonapropcdn.com/avisos/1/00/50/57/15/31/1200x1200/1837129770.jpg\" style=\"width: 100%; max-height: 200px; object-fit: cover;\" /></div><div style=\"width: 100%;\"><img src=\"https://imgar.zonapropcdn.com/avisos/1/00/50/57/15/31/1200x1200/1837129769.jpg\" style=\"width: 100%; max-height: 200px; object-fit: cover;\" /></div><div style=\"width: 100%;\"><img src=\"https://imgar.zonapropcdn.com/avisos/1/00/50/57/15/31/1200x1200/1837129768.jpg\" style=\"width: 100%; max-height: 200px; object-fit: cover;\" /></div><div style=\"width: 100%;\"><img src=\"https://imgar.zonapropcdn.com/avisos/1/00/50/57/15/31/1200x1200/1837129745.jpg\" style=\"width: 100%; max-height: 200px; object-fit: cover;\" /></div><div style=\"width: 100%;\"><img src=\"https://imgar.zonapropcdn.com/avisos/1/00/50/57/15/31/1200x1200/1837129762.jpg\" style=\"width: 100%; max-height: 200px; object-fit: cover;\" /></div></div>"
      ],
      "text/plain": [
       "<IPython.core.display.HTML object>"
      ]
     },
     "metadata": {},
     "output_type": "display_data"
    }
   ],
   "source": [
    "# uso de la función para la primera fila\n",
    "mostrar_resumen_propiedad(a.loc[10])"
   ]
  },
  {
   "cell_type": "code",
   "execution_count": 43,
   "id": "90edd0d2-e480-47e3-9fa6-6787f7a628da",
   "metadata": {
    "tags": []
   },
   "outputs": [],
   "source": [
    "# Luego, fuera de la función:\n",
    "from IPython.display import display, HTML, Markdown\n",
    "\n",
    "markdown, fotos_html = mostrar_resumen_propiedad(a.loc[0])"
   ]
  },
  {
   "cell_type": "code",
   "execution_count": 14,
   "id": "d7f8d1f3-2a8a-4c4e-9308-df6795e06460",
   "metadata": {},
   "outputs": [
    {
     "ename": "SyntaxError",
     "evalue": "invalid syntax (2389114725.py, line 1)",
     "output_type": "error",
     "traceback": [
      "\u001b[0;36m  Cell \u001b[0;32mIn[14], line 1\u001b[0;36m\u001b[0m\n\u001b[0;31m    assert\u001b[0m\n\u001b[0m          ^\u001b[0m\n\u001b[0;31mSyntaxError\u001b[0m\u001b[0;31m:\u001b[0m invalid syntax\n"
     ]
    }
   ],
   "source": [
    "assert"
   ]
  },
  {
   "cell_type": "code",
   "execution_count": 40,
   "id": "ceb1cb46-9380-43b5-83df-a569022745ed",
   "metadata": {
    "tags": []
   },
   "outputs": [],
   "source": [
    "# Crear el resumen en Markdown\n",
    "caracteristicas = '\\n'.join(f\"- {col}: {row[col]}\" for col in row.index if col not in ['photos', 'listing_url'] and 'airbnb_' not in col)\n",
    "airbnb_info = '\\n'.join(f\"- {col}: {row[col]}\" for col in row.index if 'airbnb_' in col)\n",
    "\n",
    "markdown_resumen = f\"\"\"\n",
    "------\n",
    "**PROPERTY {row.name}: [Link]({row['listing_url']})**\n",
    "**Characteristics:**\n",
    "{caracteristicas}\n",
    "\n",
    "**Airbnb:**\n",
    "{airbnb_info}\n",
    "\"\"\""
   ]
  },
  {
   "cell_type": "code",
   "execution_count": null,
   "id": "ac6c1d4a-451c-4b4f-be4b-20a025fdf459",
   "metadata": {},
   "outputs": [],
   "source": []
  },
  {
   "cell_type": "code",
   "execution_count": null,
   "id": "149bf98d-d15e-40de-bbfa-53ff30cc88fb",
   "metadata": {},
   "outputs": [],
   "source": []
  },
  {
   "cell_type": "code",
   "execution_count": null,
   "id": "2ac3c227-7fee-4c97-bbd0-dd3012d86e3c",
   "metadata": {
    "tags": []
   },
   "outputs": [],
   "source": [
    "# Acceder al ítem específico donde views_per_day es 0\n",
    "item = zonaprop_listings[zonaprop_listings.views_per_day > 30].reset_index().loc[0]\n",
    "\n",
    "# Crear una lista para guardar cada par columna-valor\n",
    "pares_columna_valor = []\n",
    "\n",
    "# Recorrer cada columna y su valor, excluyendo los NaN\n",
    "for columna, valor in item.items():\n",
    "    if pd.notnull(valor):\n",
    "        pares_columna_valor.append(f'{columna}: {valor}')\n",
    "\n",
    "# Unir todos los pares en una sola string\n",
    "string_resultante = ', '.join(pares_columna_valor)\n",
    "\n",
    "print(string_resultante)"
   ]
  },
  {
   "cell_type": "markdown",
   "id": "fcef861d-b3ae-49fc-a8b8-22a45f7013bf",
   "metadata": {},
   "source": [
    "## Usamos `Mixtral` a través de `Together.ai` "
   ]
  },
  {
   "cell_type": "code",
   "execution_count": null,
   "id": "07df0b26-4166-40a4-a497-d330aba4ad20",
   "metadata": {
    "tags": []
   },
   "outputs": [],
   "source": [
    "from openai import OpenAI\n",
    "import os"
   ]
  },
  {
   "cell_type": "code",
   "execution_count": null,
   "id": "f9308eef-1a87-42db-8e47-81034a572c09",
   "metadata": {
    "tags": []
   },
   "outputs": [],
   "source": [
    "TOGETHER_API_KEY = \"\"\n",
    "client = OpenAI(api_key=TOGETHER_API_KEY, base_url='https://api.together.xyz')"
   ]
  },
  {
   "cell_type": "code",
   "execution_count": null,
   "id": "9091b068-382b-4e33-9bff-2f4c2ae89953",
   "metadata": {
    "tags": []
   },
   "outputs": [],
   "source": [
    "system_instructions = \"You are an AI assistant that always responds in Argentinian Spanish and you are concise and professional\"\n",
    "user_query = f\"\"\"\n",
    "Using the following information from a property listing in Buenos Aires, write a summary, paying more attention to\n",
    "`asking_price` and `usd_per_m2`. Skip any URL.\n",
    "{string_resultante}\n",
    "\"\"\""
   ]
  },
  {
   "cell_type": "code",
   "execution_count": null,
   "id": "0d2ed396-1ab9-4700-a6df-5a293c801ff3",
   "metadata": {
    "tags": []
   },
   "outputs": [],
   "source": [
    "messages=[\n",
    "    {\"role\": \"system\", \"content\": system_instructions},\n",
    "    {\"role\": \"user\", \"content\": user_query}\n",
    "]"
   ]
  },
  {
   "cell_type": "code",
   "execution_count": null,
   "id": "4daeab51-4062-442a-895c-6e03e6d7b5f3",
   "metadata": {
    "tags": []
   },
   "outputs": [],
   "source": [
    "chat_completion = client.chat.completions.create(\n",
    "    messages=messages,\n",
    "    model=\"mistralai/Mixtral-8x7B-Instruct-v0.1\",\n",
    "    max_tokens=1024\n",
    ")"
   ]
  },
  {
   "cell_type": "code",
   "execution_count": null,
   "id": "bf0ad450-8f24-46dc-b76f-15c2943029c2",
   "metadata": {
    "tags": []
   },
   "outputs": [],
   "source": [
    "print(chat_completion.choices[0].message.content)"
   ]
  },
  {
   "cell_type": "code",
   "execution_count": null,
   "id": "ef26dd44-ec6e-4dfd-b20b-cad0f53a6335",
   "metadata": {
    "tags": []
   },
   "outputs": [],
   "source": []
  },
  {
   "cell_type": "code",
   "execution_count": null,
   "id": "9dc423a5-cae4-4faf-821d-066af0a7d642",
   "metadata": {},
   "outputs": [],
   "source": []
  },
  {
   "cell_type": "code",
   "execution_count": null,
   "id": "64d2520b-e157-4888-a46a-4b0f25e23d76",
   "metadata": {},
   "outputs": [],
   "source": []
  }
 ],
 "metadata": {
  "kernelspec": {
   "display_name": "machinelearnear-zonaprop:Python",
   "language": "python",
   "name": "conda-env-machinelearnear-zonaprop-py"
  },
  "language_info": {
   "codemirror_mode": {
    "name": "ipython",
    "version": 3
   },
   "file_extension": ".py",
   "mimetype": "text/x-python",
   "name": "python",
   "nbconvert_exporter": "python",
   "pygments_lexer": "ipython3",
   "version": "3.9.18"
  }
 },
 "nbformat": 4,
 "nbformat_minor": 5
}
